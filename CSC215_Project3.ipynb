{
 "cells": [
  {
   "cell_type": "code",
   "execution_count": 71,
   "metadata": {},
   "outputs": [],
   "source": [
    "import collections\n",
    "from sklearn import preprocessing\n",
    "import matplotlib.pyplot as plt\n",
    "import numpy as np\n",
    "import pandas as pd\n",
    "import shutil\n",
    "import os\n",
    "from sklearn.metrics import roc_curve, auc\n",
    "\n",
    "# Encode text values to dummy variables(i.e. [1,0,0],[0,1,0],[0,0,1] for red,green,blue)\n",
    "def encode_text_dummy(df, name):\n",
    "    dummies = pd.get_dummies(df[name])\n",
    "    for x in dummies.columns:\n",
    "        dummy_name = \"{}-{}\".format(name, x)\n",
    "        df[dummy_name] = dummies[x]\n",
    "    df.drop(name, axis=1, inplace=True)\n",
    "\n",
    "\n",
    "# Encode text values to indexes(i.e. [1],[2],[3] for red,green,blue).\n",
    "def encode_text_index(df, name):\n",
    "    le = preprocessing.LabelEncoder()\n",
    "    df[name] = le.fit_transform(df[name])\n",
    "    return le.classes_\n",
    "\n",
    "\n",
    "# Encode a numeric column as zscores\n",
    "def encode_numeric_zscore(df, name, mean=None, sd=None):\n",
    "    if mean is None:\n",
    "        mean = df[name].mean()\n",
    "\n",
    "    if sd is None:\n",
    "        sd = df[name].std()\n",
    "\n",
    "    df[name] = (df[name] - mean) / sd\n",
    "\n",
    "\n",
    "# Convert all missing values in the specified column to the median\n",
    "def missing_median(df, name):\n",
    "    med = df[name].median()\n",
    "    df[name] = df[name].fillna(med)\n",
    "\n",
    "\n",
    "# Convert all missing values in the specified column to the default\n",
    "def missing_default(df, name, default_value):\n",
    "    df[name] = df[name].fillna(default_value)\n",
    "\n",
    "\n",
    "# Convert a Pandas dataframe to the x,y inputs that TensorFlow needs\n",
    "def to_xy(df, target):\n",
    "    result = []\n",
    "    for x in df.columns:\n",
    "        if x != target:\n",
    "            result.append(x)\n",
    "    # find out the type of the target column. \n",
    "    target_type = df[target].dtypes\n",
    "    target_type = target_type[0] if isinstance(target_type, collections.Sequence) else target_type\n",
    "    # Encode to int for classification, float otherwise. TensorFlow likes 32 bits.\n",
    "    if target_type in (np.int64, np.int32):\n",
    "        # Classification\n",
    "        dummies = pd.get_dummies(df[target])\n",
    "        return df[result].values.astype(np.float32), dummies.values.astype(np.float32)\n",
    "    else:\n",
    "        # Regression\n",
    "        return df[result].values.astype(np.float32), df[target].values.astype(np.float32)\n",
    "\n",
    "# Nicely formatted time string\n",
    "def hms_string(sec_elapsed):\n",
    "    h = int(sec_elapsed / (60 * 60))\n",
    "    m = int((sec_elapsed % (60 * 60)) / 60)\n",
    "    s = sec_elapsed % 60\n",
    "    return \"{}:{:>02}:{:>05.2f}\".format(h, m, s)\n",
    "\n",
    "\n",
    "# Regression chart.\n",
    "def chart_regression(pred,y,sort=True):\n",
    "    t = pd.DataFrame({'pred' : pred, 'y' : y.flatten()})\n",
    "    if sort:\n",
    "        t.sort_values(by=['y'],inplace=True)\n",
    "    a = plt.plot(t['y'].tolist(),label='expected')\n",
    "    b = plt.plot(t['pred'].tolist(),label='prediction')\n",
    "    plt.ylabel('output')\n",
    "    plt.legend()\n",
    "    plt.show()\n",
    "\n",
    "# Remove all rows where the specified column is +/- sd standard deviations\n",
    "def remove_outliers(df, name, sd):\n",
    "    drop_rows = df.index[(np.abs(df[name] - df[name].mean()) >= (sd * df[name].std()))]\n",
    "    df.drop(drop_rows, axis=0, inplace=True)\n",
    "\n",
    "\n",
    "# Encode a column to a range between normalized_low and normalized_high.\n",
    "def encode_numeric_range(df, name, normalized_low=-1, normalized_high=1,\n",
    "                         data_low=None, data_high=None):\n",
    "    if data_low is None:\n",
    "        data_low = min(df[name])\n",
    "        data_high = max(df[name])\n",
    "\n",
    "    df[name] = ((df[name] - data_low) / (data_high - data_low)) \\\n",
    "               * (normalized_high - normalized_low) + normalized_low\n"
   ]
  },
  {
   "cell_type": "markdown",
   "metadata": {},
   "source": [
    "# Loading Data from CSV file"
   ]
  },
  {
   "cell_type": "code",
   "execution_count": 3,
   "metadata": {},
   "outputs": [],
   "source": [
    "#Saumya Shah\n",
    "#Jait Purohit\n",
    "\n",
    "import sklearn.feature_extraction.text as sk_text\n",
    "from sklearn import preprocessing\n",
    "from sklearn.model_selection import train_test_split\n",
    "from sklearn.linear_model import LinearRegression\n",
    "from sklearn.linear_model import LogisticRegression\n",
    "from sklearn.neighbors import KNeighborsClassifier\n",
    "from sklearn.naive_bayes import MultinomialNB\n",
    "from pandas import Series\n",
    "%matplotlib inline\n",
    "#reading json file into tabular format\n",
    "import json\n",
    "import csv\n",
    "import pandas as pd"
   ]
  },
  {
   "cell_type": "code",
   "execution_count": 128,
   "metadata": {},
   "outputs": [],
   "source": [
    "filename_read = 'network_intrusion_data.csv'\n",
    "df = pd.read_csv(filename_read, na_values=['NA','?'])"
   ]
  },
  {
   "cell_type": "code",
   "execution_count": 129,
   "metadata": {},
   "outputs": [],
   "source": [
    "df.columns = [\n",
    "'duration',\n",
    "'protocol_type',\n",
    "'service',\n",
    "'flag',\n",
    "'src_bytes',\n",
    "'dst_bytes',\n",
    "'land',\n",
    "'wrong_fragment',\n",
    "'urgent',\n",
    "'hot',\n",
    "'num_failed_logins',\n",
    "'logged_in',\n",
    "'num_compromised',\n",
    "'root_shell',\n",
    "'su_attempted',\n",
    "'num_root',\n",
    "'num_file_creations',\n",
    "'num_shells',\n",
    "'num_access_files',\n",
    "'num_outbound_cmds',\n",
    "'is_host_login',\n",
    "'is_guest_login',\n",
    "'count',\n",
    "'srv_count',\n",
    "'serror_rate',\n",
    "'srv_serror_rate',\n",
    "'rerror_rate',\n",
    "'srv_rerror_rate',\n",
    "'same_srv_rate',\n",
    "'diff_srv_rate',\n",
    "'srv_diff_host_rate',\n",
    "'dst_host_count',\n",
    "'dst_host_srv_count',\n",
    "'dst_host_same_srv_rate',\n",
    "'dst_host_diff_srv_rate',\n",
    "'dst_host_same_src_port_rate',\n",
    "'dst_host_srv_diff_host_rate',\n",
    "'dst_host_serror_rate',\n",
    "'dst_host_srv_serror_rate',\n",
    "'dst_host_rerror_rate',\n",
    "'dst_host_srv_rerror_rate',\n",
    "'outcome']"
   ]
  },
  {
   "cell_type": "code",
   "execution_count": 130,
   "metadata": {},
   "outputs": [
    {
     "data": {
      "text/html": [
       "<div>\n",
       "<style scoped>\n",
       "    .dataframe tbody tr th:only-of-type {\n",
       "        vertical-align: middle;\n",
       "    }\n",
       "\n",
       "    .dataframe tbody tr th {\n",
       "        vertical-align: top;\n",
       "    }\n",
       "\n",
       "    .dataframe thead th {\n",
       "        text-align: right;\n",
       "    }\n",
       "</style>\n",
       "<table border=\"1\" class=\"dataframe\">\n",
       "  <thead>\n",
       "    <tr style=\"text-align: right;\">\n",
       "      <th></th>\n",
       "      <th>duration</th>\n",
       "      <th>protocol_type</th>\n",
       "      <th>service</th>\n",
       "      <th>flag</th>\n",
       "      <th>src_bytes</th>\n",
       "      <th>dst_bytes</th>\n",
       "      <th>land</th>\n",
       "      <th>wrong_fragment</th>\n",
       "      <th>urgent</th>\n",
       "      <th>hot</th>\n",
       "      <th>...</th>\n",
       "      <th>dst_host_srv_count</th>\n",
       "      <th>dst_host_same_srv_rate</th>\n",
       "      <th>dst_host_diff_srv_rate</th>\n",
       "      <th>dst_host_same_src_port_rate</th>\n",
       "      <th>dst_host_srv_diff_host_rate</th>\n",
       "      <th>dst_host_serror_rate</th>\n",
       "      <th>dst_host_srv_serror_rate</th>\n",
       "      <th>dst_host_rerror_rate</th>\n",
       "      <th>dst_host_srv_rerror_rate</th>\n",
       "      <th>outcome</th>\n",
       "    </tr>\n",
       "  </thead>\n",
       "  <tbody>\n",
       "    <tr>\n",
       "      <th>0</th>\n",
       "      <td>0</td>\n",
       "      <td>tcp</td>\n",
       "      <td>http</td>\n",
       "      <td>SF</td>\n",
       "      <td>239</td>\n",
       "      <td>486</td>\n",
       "      <td>0</td>\n",
       "      <td>0</td>\n",
       "      <td>0</td>\n",
       "      <td>0</td>\n",
       "      <td>...</td>\n",
       "      <td>19</td>\n",
       "      <td>1.0</td>\n",
       "      <td>0.0</td>\n",
       "      <td>0.05</td>\n",
       "      <td>0.0</td>\n",
       "      <td>0.0</td>\n",
       "      <td>0.0</td>\n",
       "      <td>0.0</td>\n",
       "      <td>0.0</td>\n",
       "      <td>normal.</td>\n",
       "    </tr>\n",
       "    <tr>\n",
       "      <th>1</th>\n",
       "      <td>0</td>\n",
       "      <td>tcp</td>\n",
       "      <td>http</td>\n",
       "      <td>SF</td>\n",
       "      <td>235</td>\n",
       "      <td>1337</td>\n",
       "      <td>0</td>\n",
       "      <td>0</td>\n",
       "      <td>0</td>\n",
       "      <td>0</td>\n",
       "      <td>...</td>\n",
       "      <td>29</td>\n",
       "      <td>1.0</td>\n",
       "      <td>0.0</td>\n",
       "      <td>0.03</td>\n",
       "      <td>0.0</td>\n",
       "      <td>0.0</td>\n",
       "      <td>0.0</td>\n",
       "      <td>0.0</td>\n",
       "      <td>0.0</td>\n",
       "      <td>normal.</td>\n",
       "    </tr>\n",
       "    <tr>\n",
       "      <th>2</th>\n",
       "      <td>0</td>\n",
       "      <td>tcp</td>\n",
       "      <td>http</td>\n",
       "      <td>SF</td>\n",
       "      <td>219</td>\n",
       "      <td>1337</td>\n",
       "      <td>0</td>\n",
       "      <td>0</td>\n",
       "      <td>0</td>\n",
       "      <td>0</td>\n",
       "      <td>...</td>\n",
       "      <td>39</td>\n",
       "      <td>1.0</td>\n",
       "      <td>0.0</td>\n",
       "      <td>0.03</td>\n",
       "      <td>0.0</td>\n",
       "      <td>0.0</td>\n",
       "      <td>0.0</td>\n",
       "      <td>0.0</td>\n",
       "      <td>0.0</td>\n",
       "      <td>normal.</td>\n",
       "    </tr>\n",
       "    <tr>\n",
       "      <th>3</th>\n",
       "      <td>0</td>\n",
       "      <td>tcp</td>\n",
       "      <td>http</td>\n",
       "      <td>SF</td>\n",
       "      <td>217</td>\n",
       "      <td>2032</td>\n",
       "      <td>0</td>\n",
       "      <td>0</td>\n",
       "      <td>0</td>\n",
       "      <td>0</td>\n",
       "      <td>...</td>\n",
       "      <td>49</td>\n",
       "      <td>1.0</td>\n",
       "      <td>0.0</td>\n",
       "      <td>0.02</td>\n",
       "      <td>0.0</td>\n",
       "      <td>0.0</td>\n",
       "      <td>0.0</td>\n",
       "      <td>0.0</td>\n",
       "      <td>0.0</td>\n",
       "      <td>normal.</td>\n",
       "    </tr>\n",
       "    <tr>\n",
       "      <th>4</th>\n",
       "      <td>0</td>\n",
       "      <td>tcp</td>\n",
       "      <td>http</td>\n",
       "      <td>SF</td>\n",
       "      <td>217</td>\n",
       "      <td>2032</td>\n",
       "      <td>0</td>\n",
       "      <td>0</td>\n",
       "      <td>0</td>\n",
       "      <td>0</td>\n",
       "      <td>...</td>\n",
       "      <td>59</td>\n",
       "      <td>1.0</td>\n",
       "      <td>0.0</td>\n",
       "      <td>0.02</td>\n",
       "      <td>0.0</td>\n",
       "      <td>0.0</td>\n",
       "      <td>0.0</td>\n",
       "      <td>0.0</td>\n",
       "      <td>0.0</td>\n",
       "      <td>normal.</td>\n",
       "    </tr>\n",
       "  </tbody>\n",
       "</table>\n",
       "<p>5 rows × 42 columns</p>\n",
       "</div>"
      ],
      "text/plain": [
       "   duration protocol_type service flag  src_bytes  dst_bytes  land  \\\n",
       "0         0           tcp    http   SF        239        486     0   \n",
       "1         0           tcp    http   SF        235       1337     0   \n",
       "2         0           tcp    http   SF        219       1337     0   \n",
       "3         0           tcp    http   SF        217       2032     0   \n",
       "4         0           tcp    http   SF        217       2032     0   \n",
       "\n",
       "   wrong_fragment  urgent  hot   ...     dst_host_srv_count  \\\n",
       "0               0       0    0   ...                     19   \n",
       "1               0       0    0   ...                     29   \n",
       "2               0       0    0   ...                     39   \n",
       "3               0       0    0   ...                     49   \n",
       "4               0       0    0   ...                     59   \n",
       "\n",
       "   dst_host_same_srv_rate  dst_host_diff_srv_rate  \\\n",
       "0                     1.0                     0.0   \n",
       "1                     1.0                     0.0   \n",
       "2                     1.0                     0.0   \n",
       "3                     1.0                     0.0   \n",
       "4                     1.0                     0.0   \n",
       "\n",
       "   dst_host_same_src_port_rate  dst_host_srv_diff_host_rate  \\\n",
       "0                         0.05                          0.0   \n",
       "1                         0.03                          0.0   \n",
       "2                         0.03                          0.0   \n",
       "3                         0.02                          0.0   \n",
       "4                         0.02                          0.0   \n",
       "\n",
       "   dst_host_serror_rate  dst_host_srv_serror_rate  dst_host_rerror_rate  \\\n",
       "0                   0.0                       0.0                   0.0   \n",
       "1                   0.0                       0.0                   0.0   \n",
       "2                   0.0                       0.0                   0.0   \n",
       "3                   0.0                       0.0                   0.0   \n",
       "4                   0.0                       0.0                   0.0   \n",
       "\n",
       "   dst_host_srv_rerror_rate  outcome  \n",
       "0                       0.0  normal.  \n",
       "1                       0.0  normal.  \n",
       "2                       0.0  normal.  \n",
       "3                       0.0  normal.  \n",
       "4                       0.0  normal.  \n",
       "\n",
       "[5 rows x 42 columns]"
      ]
     },
     "execution_count": 130,
     "metadata": {},
     "output_type": "execute_result"
    }
   ],
   "source": [
    "df.head()"
   ]
  },
  {
   "cell_type": "code",
   "execution_count": 7,
   "metadata": {},
   "outputs": [
    {
     "data": {
      "text/plain": [
       "(494020, 42)"
      ]
     },
     "execution_count": 7,
     "metadata": {},
     "output_type": "execute_result"
    }
   ],
   "source": [
    "df.shape"
   ]
  },
  {
   "cell_type": "markdown",
   "metadata": {},
   "source": [
    "# Data Exploration"
   ]
  },
  {
   "cell_type": "code",
   "execution_count": 8,
   "metadata": {},
   "outputs": [
    {
     "name": "stdout",
     "output_type": "stream",
     "text": [
      "duration   2495\n",
      "protocol_type   3\n",
      "service   66\n",
      "flag   11\n",
      "src_bytes   3300\n",
      "dst_bytes   10725\n",
      "land   2\n",
      "wrong_fragment   3\n",
      "urgent   4\n",
      "hot   22\n",
      "num_failed_logins   6\n",
      "logged_in   2\n",
      "num_compromised   23\n",
      "root_shell   2\n",
      "su_attempted   3\n",
      "num_root   20\n",
      "num_file_creations   18\n",
      "num_shells   3\n",
      "num_access_files   7\n",
      "num_outbound_cmds   1\n",
      "is_host_login   1\n",
      "is_guest_login   2\n",
      "count   490\n",
      "srv_count   470\n",
      "serror_rate   92\n",
      "srv_serror_rate   51\n",
      "rerror_rate   77\n",
      "srv_rerror_rate   51\n",
      "same_srv_rate   99\n",
      "diff_srv_rate   78\n",
      "srv_diff_host_rate   64\n",
      "dst_host_count   256\n",
      "dst_host_srv_count   256\n",
      "dst_host_same_srv_rate   101\n",
      "dst_host_diff_srv_rate   101\n",
      "dst_host_same_src_port_rate   101\n",
      "dst_host_srv_diff_host_rate   65\n",
      "dst_host_serror_rate   100\n",
      "dst_host_srv_serror_rate   72\n",
      "dst_host_rerror_rate   101\n",
      "dst_host_srv_rerror_rate   101\n",
      "outcome   23\n"
     ]
    }
   ],
   "source": [
    "for i in df.columns:\n",
    "    print(i,\" \",len(df[i].unique()))"
   ]
  },
  {
   "cell_type": "code",
   "execution_count": 131,
   "metadata": {},
   "outputs": [
    {
     "data": {
      "text/html": [
       "<div>\n",
       "<style scoped>\n",
       "    .dataframe tbody tr th:only-of-type {\n",
       "        vertical-align: middle;\n",
       "    }\n",
       "\n",
       "    .dataframe tbody tr th {\n",
       "        vertical-align: top;\n",
       "    }\n",
       "\n",
       "    .dataframe thead th {\n",
       "        text-align: right;\n",
       "    }\n",
       "</style>\n",
       "<table border=\"1\" class=\"dataframe\">\n",
       "  <thead>\n",
       "    <tr style=\"text-align: right;\">\n",
       "      <th></th>\n",
       "      <th>duration</th>\n",
       "      <th>protocol_type</th>\n",
       "      <th>service</th>\n",
       "      <th>flag</th>\n",
       "      <th>src_bytes</th>\n",
       "      <th>dst_bytes</th>\n",
       "      <th>land</th>\n",
       "      <th>wrong_fragment</th>\n",
       "      <th>urgent</th>\n",
       "      <th>hot</th>\n",
       "      <th>...</th>\n",
       "      <th>dst_host_srv_count</th>\n",
       "      <th>dst_host_same_srv_rate</th>\n",
       "      <th>dst_host_diff_srv_rate</th>\n",
       "      <th>dst_host_same_src_port_rate</th>\n",
       "      <th>dst_host_srv_diff_host_rate</th>\n",
       "      <th>dst_host_serror_rate</th>\n",
       "      <th>dst_host_srv_serror_rate</th>\n",
       "      <th>dst_host_rerror_rate</th>\n",
       "      <th>dst_host_srv_rerror_rate</th>\n",
       "      <th>outcome</th>\n",
       "    </tr>\n",
       "  </thead>\n",
       "  <tbody>\n",
       "  </tbody>\n",
       "</table>\n",
       "<p>0 rows × 42 columns</p>\n",
       "</div>"
      ],
      "text/plain": [
       "Empty DataFrame\n",
       "Columns: [duration, protocol_type, service, flag, src_bytes, dst_bytes, land, wrong_fragment, urgent, hot, num_failed_logins, logged_in, num_compromised, root_shell, su_attempted, num_root, num_file_creations, num_shells, num_access_files, num_outbound_cmds, is_host_login, is_guest_login, count, srv_count, serror_rate, srv_serror_rate, rerror_rate, srv_rerror_rate, same_srv_rate, diff_srv_rate, srv_diff_host_rate, dst_host_count, dst_host_srv_count, dst_host_same_srv_rate, dst_host_diff_srv_rate, dst_host_same_src_port_rate, dst_host_srv_diff_host_rate, dst_host_serror_rate, dst_host_srv_serror_rate, dst_host_rerror_rate, dst_host_srv_rerror_rate, outcome]\n",
       "Index: []\n",
       "\n",
       "[0 rows x 42 columns]"
      ]
     },
     "execution_count": 131,
     "metadata": {},
     "output_type": "execute_result"
    }
   ],
   "source": [
    "df[df.isnull().any(axis=1)]"
   ]
  },
  {
   "cell_type": "code",
   "execution_count": 132,
   "metadata": {},
   "outputs": [
    {
     "name": "stdout",
     "output_type": "stream",
     "text": [
      "outcome\n"
     ]
    },
    {
     "data": {
      "image/png": "[encoded data removed]",
      "text/plain": [
       "<Figure size 432x288 with 1 Axes>"
      ]
     },
     "metadata": {},
     "output_type": "display_data"
    },
    {
     "name": "stdout",
     "output_type": "stream",
     "text": [
      "protocol_type\n"
     ]
    },
    {
     "data": {
      "image/png": "[encoded data removed]",
      "text/plain": [
       "<Figure size 432x288 with 1 Axes>"
      ]
     },
     "metadata": {},
     "output_type": "display_data"
    },
    {
     "name": "stdout",
     "output_type": "stream",
     "text": [
      "service\n"
     ]
    },
    {
     "data": {
      "image/png": "[encoded data removed]",
      "text/plain": [
       "<Figure size 432x288 with 1 Axes>"
      ]
     },
     "metadata": {},
     "output_type": "display_data"
    },
    {
     "name": "stdout",
     "output_type": "stream",
     "text": [
      "flag\n"
     ]
    },
    {
     "data": {
      "image/png": "[encoded data removed]",
      "text/plain": [
       "<Figure size 432x288 with 1 Axes>"
      ]
     },
     "metadata": {},
     "output_type": "display_data"
    },
    {
     "name": "stdout",
     "output_type": "stream",
     "text": [
      "src_bytes\n"
     ]
    },
    {
     "data": {
      "image/png": "[encoded data removed]",
      "text/plain": [
       "<Figure size 432x288 with 1 Axes>"
      ]
     },
     "metadata": {},
     "output_type": "display_data"
    }
   ],
   "source": [
    "import pandas as pd\n",
    "import matplotlib.pyplot as plt\n",
    "visuallist = ['outcome','protocol_type','service','flag','src_bytes']\n",
    "for i in visuallist:\n",
    "    print(i)\n",
    "    df[i].value_counts().plot.bar()\n",
    "    plt.show()"
   ]
  },
  {
   "cell_type": "markdown",
   "metadata": {},
   "source": [
    "# Data Preprocessing"
   ]
  },
  {
   "cell_type": "code",
   "execution_count": 9,
   "metadata": {},
   "outputs": [],
   "source": [
    "def labels_map(label):\n",
    "    label = str(label).split('.')[0]\n",
    "    if label == 'normal':\n",
    "        return 0\n",
    "    else:\n",
    "        return 1\n",
    "df['enc_outcome'] = df.outcome.apply(labels_map)"
   ]
  },
  {
   "cell_type": "code",
   "execution_count": 10,
   "metadata": {},
   "outputs": [],
   "source": [
    "onehotcols = ['protocol_type','service','flag','land','logged_in','root_shell','is_host_login','is_guest_login',]"
   ]
  },
  {
   "cell_type": "code",
   "execution_count": 11,
   "metadata": {},
   "outputs": [],
   "source": [
    "for i in onehotcols:\n",
    "    encode_text_dummy(df,i)"
   ]
  },
  {
   "cell_type": "code",
   "execution_count": 12,
   "metadata": {},
   "outputs": [
    {
     "data": {
      "text/plain": [
       "(494020, 124)"
      ]
     },
     "execution_count": 12,
     "metadata": {},
     "output_type": "execute_result"
    }
   ],
   "source": [
    "df.shape"
   ]
  },
  {
   "cell_type": "code",
   "execution_count": 13,
   "metadata": {},
   "outputs": [],
   "source": [
    "df_new = df"
   ]
  },
  {
   "cell_type": "code",
   "execution_count": 14,
   "metadata": {},
   "outputs": [],
   "source": [
    "zscorecols = [\n",
    "'duration',\n",
    "'src_bytes',\n",
    "'dst_bytes',\n",
    "'hot',\n",
    "'num_compromised',\n",
    "'num_root',\n",
    "'num_file_creations',\n",
    "'count',\n",
    "'srv_count',\n",
    "'serror_rate',\n",
    "'srv_serror_rate',\n",
    "'rerror_rate',\n",
    "'srv_rerror_rate',\n",
    "'same_srv_rate',\n",
    "'diff_srv_rate',\n",
    "'srv_diff_host_rate',\n",
    "'dst_host_count',\n",
    "'dst_host_srv_count',\n",
    "'dst_host_same_srv_rate',\n",
    "'dst_host_diff_srv_rate',\n",
    "'dst_host_same_src_port_rate',\n",
    "'dst_host_srv_diff_host_rate',\n",
    "'dst_host_serror_rate',\n",
    "'dst_host_srv_serror_rate',\n",
    "'dst_host_rerror_rate',\n",
    "'dst_host_srv_rerror_rate']"
   ]
  },
  {
   "cell_type": "code",
   "execution_count": 15,
   "metadata": {},
   "outputs": [
    {
     "name": "stdout",
     "output_type": "stream",
     "text": [
      "duration   2495\n",
      "src_bytes   3300\n",
      "dst_bytes   10725\n",
      "hot   22\n",
      "num_compromised   23\n",
      "num_root   20\n",
      "num_file_creations   18\n",
      "count   490\n",
      "srv_count   470\n",
      "serror_rate   92\n",
      "srv_serror_rate   51\n",
      "rerror_rate   77\n",
      "srv_rerror_rate   51\n",
      "same_srv_rate   99\n",
      "diff_srv_rate   78\n",
      "srv_diff_host_rate   64\n",
      "dst_host_count   256\n",
      "dst_host_srv_count   256\n",
      "dst_host_same_srv_rate   101\n",
      "dst_host_diff_srv_rate   101\n",
      "dst_host_same_src_port_rate   101\n",
      "dst_host_srv_diff_host_rate   65\n",
      "dst_host_serror_rate   100\n",
      "dst_host_srv_serror_rate   72\n",
      "dst_host_rerror_rate   101\n",
      "dst_host_srv_rerror_rate   101\n"
     ]
    }
   ],
   "source": [
    "for i in zscorecols:\n",
    "    print(i,\" \",len(df[i].unique()))"
   ]
  },
  {
   "cell_type": "code",
   "execution_count": 16,
   "metadata": {},
   "outputs": [],
   "source": [
    "for i in zscorecols:\n",
    "    encode_numeric_zscore(df_new,i)"
   ]
  },
  {
   "cell_type": "code",
   "execution_count": 17,
   "metadata": {},
   "outputs": [
    {
     "data": {
      "text/html": [
       "<div>\n",
       "<style scoped>\n",
       "    .dataframe tbody tr th:only-of-type {\n",
       "        vertical-align: middle;\n",
       "    }\n",
       "\n",
       "    .dataframe tbody tr th {\n",
       "        vertical-align: top;\n",
       "    }\n",
       "\n",
       "    .dataframe thead th {\n",
       "        text-align: right;\n",
       "    }\n",
       "</style>\n",
       "<table border=\"1\" class=\"dataframe\">\n",
       "  <thead>\n",
       "    <tr style=\"text-align: right;\">\n",
       "      <th></th>\n",
       "      <th>duration</th>\n",
       "      <th>src_bytes</th>\n",
       "      <th>dst_bytes</th>\n",
       "      <th>wrong_fragment</th>\n",
       "      <th>urgent</th>\n",
       "      <th>hot</th>\n",
       "      <th>num_failed_logins</th>\n",
       "      <th>num_compromised</th>\n",
       "      <th>su_attempted</th>\n",
       "      <th>num_root</th>\n",
       "      <th>...</th>\n",
       "      <th>flag-SH</th>\n",
       "      <th>land-0</th>\n",
       "      <th>land-1</th>\n",
       "      <th>logged_in-0</th>\n",
       "      <th>logged_in-1</th>\n",
       "      <th>root_shell-0</th>\n",
       "      <th>root_shell-1</th>\n",
       "      <th>is_host_login-0</th>\n",
       "      <th>is_guest_login-0</th>\n",
       "      <th>is_guest_login-1</th>\n",
       "    </tr>\n",
       "  </thead>\n",
       "  <tbody>\n",
       "    <tr>\n",
       "      <th>0</th>\n",
       "      <td>-0.067792</td>\n",
       "      <td>-0.002820</td>\n",
       "      <td>-0.011578</td>\n",
       "      <td>0</td>\n",
       "      <td>0</td>\n",
       "      <td>-0.044136</td>\n",
       "      <td>0</td>\n",
       "      <td>-0.005679</td>\n",
       "      <td>0</td>\n",
       "      <td>-0.00564</td>\n",
       "      <td>...</td>\n",
       "      <td>0</td>\n",
       "      <td>1</td>\n",
       "      <td>0</td>\n",
       "      <td>0</td>\n",
       "      <td>1</td>\n",
       "      <td>1</td>\n",
       "      <td>0</td>\n",
       "      <td>1</td>\n",
       "      <td>1</td>\n",
       "      <td>0</td>\n",
       "    </tr>\n",
       "    <tr>\n",
       "      <th>1</th>\n",
       "      <td>-0.067792</td>\n",
       "      <td>-0.002824</td>\n",
       "      <td>0.014179</td>\n",
       "      <td>0</td>\n",
       "      <td>0</td>\n",
       "      <td>-0.044136</td>\n",
       "      <td>0</td>\n",
       "      <td>-0.005679</td>\n",
       "      <td>0</td>\n",
       "      <td>-0.00564</td>\n",
       "      <td>...</td>\n",
       "      <td>0</td>\n",
       "      <td>1</td>\n",
       "      <td>0</td>\n",
       "      <td>0</td>\n",
       "      <td>1</td>\n",
       "      <td>1</td>\n",
       "      <td>0</td>\n",
       "      <td>1</td>\n",
       "      <td>1</td>\n",
       "      <td>0</td>\n",
       "    </tr>\n",
       "    <tr>\n",
       "      <th>2</th>\n",
       "      <td>-0.067792</td>\n",
       "      <td>-0.002840</td>\n",
       "      <td>0.014179</td>\n",
       "      <td>0</td>\n",
       "      <td>0</td>\n",
       "      <td>-0.044136</td>\n",
       "      <td>0</td>\n",
       "      <td>-0.005679</td>\n",
       "      <td>0</td>\n",
       "      <td>-0.00564</td>\n",
       "      <td>...</td>\n",
       "      <td>0</td>\n",
       "      <td>1</td>\n",
       "      <td>0</td>\n",
       "      <td>0</td>\n",
       "      <td>1</td>\n",
       "      <td>1</td>\n",
       "      <td>0</td>\n",
       "      <td>1</td>\n",
       "      <td>1</td>\n",
       "      <td>0</td>\n",
       "    </tr>\n",
       "    <tr>\n",
       "      <th>3</th>\n",
       "      <td>-0.067792</td>\n",
       "      <td>-0.002842</td>\n",
       "      <td>0.035214</td>\n",
       "      <td>0</td>\n",
       "      <td>0</td>\n",
       "      <td>-0.044136</td>\n",
       "      <td>0</td>\n",
       "      <td>-0.005679</td>\n",
       "      <td>0</td>\n",
       "      <td>-0.00564</td>\n",
       "      <td>...</td>\n",
       "      <td>0</td>\n",
       "      <td>1</td>\n",
       "      <td>0</td>\n",
       "      <td>0</td>\n",
       "      <td>1</td>\n",
       "      <td>1</td>\n",
       "      <td>0</td>\n",
       "      <td>1</td>\n",
       "      <td>1</td>\n",
       "      <td>0</td>\n",
       "    </tr>\n",
       "    <tr>\n",
       "      <th>4</th>\n",
       "      <td>-0.067792</td>\n",
       "      <td>-0.002842</td>\n",
       "      <td>0.035214</td>\n",
       "      <td>0</td>\n",
       "      <td>0</td>\n",
       "      <td>-0.044136</td>\n",
       "      <td>0</td>\n",
       "      <td>-0.005679</td>\n",
       "      <td>0</td>\n",
       "      <td>-0.00564</td>\n",
       "      <td>...</td>\n",
       "      <td>0</td>\n",
       "      <td>1</td>\n",
       "      <td>0</td>\n",
       "      <td>0</td>\n",
       "      <td>1</td>\n",
       "      <td>1</td>\n",
       "      <td>0</td>\n",
       "      <td>1</td>\n",
       "      <td>1</td>\n",
       "      <td>0</td>\n",
       "    </tr>\n",
       "  </tbody>\n",
       "</table>\n",
       "<p>5 rows × 124 columns</p>\n",
       "</div>"
      ],
      "text/plain": [
       "   duration  src_bytes  dst_bytes  wrong_fragment  urgent       hot  \\\n",
       "0 -0.067792  -0.002820  -0.011578               0       0 -0.044136   \n",
       "1 -0.067792  -0.002824   0.014179               0       0 -0.044136   \n",
       "2 -0.067792  -0.002840   0.014179               0       0 -0.044136   \n",
       "3 -0.067792  -0.002842   0.035214               0       0 -0.044136   \n",
       "4 -0.067792  -0.002842   0.035214               0       0 -0.044136   \n",
       "\n",
       "   num_failed_logins  num_compromised  su_attempted  num_root  \\\n",
       "0                  0        -0.005679             0  -0.00564   \n",
       "1                  0        -0.005679             0  -0.00564   \n",
       "2                  0        -0.005679             0  -0.00564   \n",
       "3                  0        -0.005679             0  -0.00564   \n",
       "4                  0        -0.005679             0  -0.00564   \n",
       "\n",
       "         ...         flag-SH  land-0  land-1  logged_in-0  logged_in-1  \\\n",
       "0        ...               0       1       0            0            1   \n",
       "1        ...               0       1       0            0            1   \n",
       "2        ...               0       1       0            0            1   \n",
       "3        ...               0       1       0            0            1   \n",
       "4        ...               0       1       0            0            1   \n",
       "\n",
       "   root_shell-0  root_shell-1  is_host_login-0  is_guest_login-0  \\\n",
       "0             1             0                1                 1   \n",
       "1             1             0                1                 1   \n",
       "2             1             0                1                 1   \n",
       "3             1             0                1                 1   \n",
       "4             1             0                1                 1   \n",
       "\n",
       "   is_guest_login-1  \n",
       "0                 0  \n",
       "1                 0  \n",
       "2                 0  \n",
       "3                 0  \n",
       "4                 0  \n",
       "\n",
       "[5 rows x 124 columns]"
      ]
     },
     "execution_count": 17,
     "metadata": {},
     "output_type": "execute_result"
    }
   ],
   "source": [
    "df_new.head()"
   ]
  },
  {
   "cell_type": "code",
   "execution_count": 18,
   "metadata": {},
   "outputs": [
    {
     "data": {
      "text/plain": [
       "array([0, 1], dtype=int64)"
      ]
     },
     "execution_count": 18,
     "metadata": {},
     "output_type": "execute_result"
    }
   ],
   "source": [
    "df_new['enc_outcome'].unique()"
   ]
  },
  {
   "cell_type": "code",
   "execution_count": 19,
   "metadata": {},
   "outputs": [
    {
     "data": {
      "text/plain": [
       "(494020, 124)"
      ]
     },
     "execution_count": 19,
     "metadata": {},
     "output_type": "execute_result"
    }
   ],
   "source": [
    "df_new.shape"
   ]
  },
  {
   "cell_type": "code",
   "execution_count": 20,
   "metadata": {},
   "outputs": [],
   "source": [
    "    df_new.drop(columns='outcome',inplace=True)"
   ]
  },
  {
   "cell_type": "code",
   "execution_count": 21,
   "metadata": {},
   "outputs": [],
   "source": [
    "traincols = df_new.columns.tolist() "
   ]
  },
  {
   "cell_type": "code",
   "execution_count": 22,
   "metadata": {},
   "outputs": [],
   "source": [
    "traincols.remove('enc_outcome')"
   ]
  },
  {
   "cell_type": "code",
   "execution_count": 51,
   "metadata": {},
   "outputs": [],
   "source": [
    "x_train, x_test, y_train, y_test = train_test_split(df_new[traincols],df_new['enc_outcome'], test_size=0.2, random_state=42)"
   ]
  },
  {
   "cell_type": "markdown",
   "metadata": {},
   "source": [
    "# Logistic Regression"
   ]
  },
  {
   "cell_type": "code",
   "execution_count": 25,
   "metadata": {},
   "outputs": [],
   "source": [
    "#Logistic Regression\n",
    "from sklearn import metrics\n",
    "logreg = LogisticRegression()\n",
    "# fit the model with data\n",
    "logreg.fit(x_train,y_train)\n",
    "# predict the response for new observations\n",
    "logisticprediction = logreg.predict(x_test)"
   ]
  },
  {
   "cell_type": "code",
   "execution_count": 26,
   "metadata": {},
   "outputs": [
    {
     "name": "stdout",
     "output_type": "stream",
     "text": [
      "Accuracy:  0.998400874458524\n",
      "Precision:  0.9984032405746215\n",
      "Recall:  0.998400874458524\n",
      "F1_Score:  0.998401653478205\n",
      "Confusion Matrix:  [[19314    54]\n",
      " [  104 79332]]\n"
     ]
    }
   ],
   "source": [
    "print(\"Accuracy: \", metrics.accuracy_score(y_test,logisticprediction))\n",
    "print(\"Precision: \", metrics.precision_score(y_test,logisticprediction, pos_label=1, average='weighted'))\n",
    "print(\"Recall: \", metrics.recall_score(y_test,logisticprediction, pos_label=1, average='weighted'))\n",
    "print(\"F1_Score: \", metrics.f1_score(y_test,logisticprediction, pos_label=1, average='weighted'))\n",
    "print(\"Confusion Matrix: \", metrics.confusion_matrix(y_test,logisticprediction))"
   ]
  },
  {
   "cell_type": "code",
   "execution_count": 72,
   "metadata": {},
   "outputs": [],
   "source": [
    "def plot_confusion_matrix(cm, names, title='Confusion matrix', cmap=plt.cm.Blues):\n",
    "    plt.imshow(cm, interpolation='nearest', cmap=cmap)\n",
    "    plt.title(title)\n",
    "    plt.colorbar()\n",
    "    tick_marks = np.arange(len(names))\n",
    "    plt.xticks(tick_marks, names, rotation=45)\n",
    "    plt.yticks(tick_marks, names)\n",
    "    plt.tight_layout()\n",
    "    plt.ylabel('True label')\n",
    "    plt.xlabel('Predicted label')\n",
    "def plot_roc(pred,y):\n",
    "    fpr, tpr, thresholds = roc_curve(y, pred)\n",
    "    roc_auc = auc(fpr, tpr)\n",
    "\n",
    "    plt.figure()\n",
    "    plt.plot(fpr, tpr, label='ROC curve (area = %0.2f)' % roc_auc)\n",
    "    plt.plot([0, 1], [0, 1], 'k--')\n",
    "    plt.xlim([0.0, 1.0])\n",
    "    plt.ylim([0.0, 1.05])\n",
    "    plt.xlabel('False Positive Rate')\n",
    "    plt.ylabel('True Positive Rate')\n",
    "    plt.title('Receiver Operating Characteristic (ROC)')\n",
    "    plt.legend(loc=\"lower right\")\n",
    "    plt.show()"
   ]
  },
  {
   "cell_type": "code",
   "execution_count": 73,
   "metadata": {},
   "outputs": [
    {
     "name": "stdout",
     "output_type": "stream",
     "text": [
      "[[19314    54]\n",
      " [  104 79332]]\n",
      "Plotting confusion matrix\n"
     ]
    },
    {
     "data": {
      "image/png": "[encoded data removed]",
      "text/plain": [
       "<Figure size 432x288 with 2 Axes>"
      ]
     },
     "metadata": {},
     "output_type": "display_data"
    },
    {
     "data": {
      "image/png": "[encoded data removed]",
      "text/plain": [
       "<Figure size 432x288 with 1 Axes>"
      ]
     },
     "metadata": {},
     "output_type": "display_data"
    },
    {
     "name": "stdout",
     "output_type": "stream",
     "text": [
      "             precision    recall  f1-score   support\n",
      "\n",
      "          0       0.99      1.00      1.00     19368\n",
      "          1       1.00      1.00      1.00     79436\n",
      "\n",
      "avg / total       1.00      1.00      1.00     98804\n",
      "\n"
     ]
    }
   ],
   "source": [
    "from sklearn.metrics import confusion_matrix, classification_report\n",
    "cm = confusion_matrix(y_test, logisticprediction)\n",
    "print(cm)\n",
    "outcome = encode_text_index(df_new,'enc_outcome')\n",
    "\n",
    "print('Plotting confusion matrix')\n",
    "\n",
    "plt.figure()\n",
    "plot_confusion_matrix(cm, outcome)\n",
    "plt.show()\n",
    "#pred = logisticprediction[:,1]\n",
    "plot_roc(logisticprediction,y_test)\n",
    "print(classification_report(y_test, logisticprediction))"
   ]
  },
  {
   "cell_type": "markdown",
   "metadata": {},
   "source": [
    "# Nearest Neighbor"
   ]
  },
  {
   "cell_type": "code",
   "execution_count": 79,
   "metadata": {},
   "outputs": [],
   "source": [
    "#Nearest Neighbor\n",
    "knn = KNeighborsClassifier(n_neighbors=5)\n",
    "knn.fit(x_train,y_train)\n",
    "# predict the response for new observations\n",
    "knnprediction = knn.predict(x_test)\n"
   ]
  },
  {
   "cell_type": "code",
   "execution_count": 80,
   "metadata": {},
   "outputs": [
    {
     "name": "stdout",
     "output_type": "stream",
     "text": [
      "Accuracy:  0.9994332213270718\n",
      "Precision:  0.9994332447523526\n",
      "Recall:  0.9994332213270718\n",
      "F1_Score:  0.9994332323905865\n",
      "Confusion Matrix:  [[19341    27]\n",
      " [   29 79407]]\n",
      "[[19341    27]\n",
      " [   29 79407]]\n",
      "Plotting confusion matrix\n"
     ]
    },
    {
     "data": {
      "image/png": "[encoded data removed]",
      "text/plain": [
       "<Figure size 432x288 with 2 Axes>"
      ]
     },
     "metadata": {},
     "output_type": "display_data"
    },
    {
     "data": {
      "image/png": "[encoded data removed]",
      "text/plain": [
       "<Figure size 432x288 with 1 Axes>"
      ]
     },
     "metadata": {},
     "output_type": "display_data"
    },
    {
     "name": "stdout",
     "output_type": "stream",
     "text": [
      "             precision    recall  f1-score   support\n",
      "\n",
      "          0       1.00      1.00      1.00     19368\n",
      "          1       1.00      1.00      1.00     79436\n",
      "\n",
      "avg / total       1.00      1.00      1.00     98804\n",
      "\n"
     ]
    }
   ],
   "source": [
    "print(\"Accuracy: \", metrics.accuracy_score(y_test,knnprediction))\n",
    "print(\"Precision: \", metrics.precision_score(y_test,knnprediction, pos_label=1, average='weighted'))\n",
    "print(\"Recall: \", metrics.recall_score(y_test,knnprediction, pos_label=1, average='weighted'))\n",
    "print(\"F1_Score: \", metrics.f1_score(y_test,knnprediction, pos_label=1, average='weighted'))\n",
    "print(\"Confusion Matrix: \", metrics.confusion_matrix(y_test,knnprediction))\n",
    "cm = confusion_matrix(y_test, knnprediction)\n",
    "print(cm)\n",
    "print('Plotting confusion matrix')\n",
    "plt.figure()\n",
    "plot_confusion_matrix(cm, outcome)\n",
    "plt.show()\n",
    "plot_roc(knnprediction,y_test)\n",
    "print(classification_report(y_test, knnprediction))"
   ]
  },
  {
   "cell_type": "markdown",
   "metadata": {},
   "source": [
    "# Gaussian Naive Bayes"
   ]
  },
  {
   "cell_type": "code",
   "execution_count": 75,
   "metadata": {},
   "outputs": [],
   "source": [
    "from sklearn.naive_bayes import GaussianNB\n",
    "clf = GaussianNB()\n",
    "clf.fit(x_train, y_train)\n",
    "#GaussianNB(priors=None, var_smoothing=1e-09)\n",
    "gnbprediction = clf.predict(x_test)"
   ]
  },
  {
   "cell_type": "code",
   "execution_count": 76,
   "metadata": {},
   "outputs": [
    {
     "name": "stdout",
     "output_type": "stream",
     "text": [
      "Accuracy:  0.9494757297275414\n",
      "Precision:  0.9596545703017108\n",
      "Recall:  0.9494757297275414\n",
      "F1_Score:  0.9515202417326188\n",
      "Confusion Matrix:  [[19339    29]\n",
      " [ 4963 74473]]\n",
      "[[19339    29]\n",
      " [ 4963 74473]]\n",
      "Plotting confusion matrix\n"
     ]
    },
    {
     "data": {
      "image/png": "[encoded data removed]",
      "text/plain": [
       "<Figure size 432x288 with 2 Axes>"
      ]
     },
     "metadata": {},
     "output_type": "display_data"
    },
    {
     "data": {
      "image/png": "[encoded data removed]",
      "text/plain": [
       "<Figure size 432x288 with 1 Axes>"
      ]
     },
     "metadata": {},
     "output_type": "display_data"
    },
    {
     "name": "stdout",
     "output_type": "stream",
     "text": [
      "             precision    recall  f1-score   support\n",
      "\n",
      "          0       0.80      1.00      0.89     19368\n",
      "          1       1.00      0.94      0.97     79436\n",
      "\n",
      "avg / total       0.96      0.95      0.95     98804\n",
      "\n"
     ]
    }
   ],
   "source": [
    "print(\"Accuracy: \", metrics.accuracy_score(y_test,gnbprediction))\n",
    "print(\"Precision: \", metrics.precision_score(y_test,gnbprediction, pos_label=1, average='weighted'))\n",
    "print(\"Recall: \", metrics.recall_score(y_test,gnbprediction, pos_label=1, average='weighted'))\n",
    "print(\"F1_Score: \", metrics.f1_score(y_test,gnbprediction, pos_label=1, average='weighted'))\n",
    "print(\"Confusion Matrix: \", metrics.confusion_matrix(y_test,gnbprediction))\n",
    "cm = confusion_matrix(y_test, gnbprediction)\n",
    "print(cm)\n",
    "print('Plotting confusion matrix')\n",
    "plt.figure()\n",
    "plot_confusion_matrix(cm, outcome)\n",
    "plt.show()\n",
    "plot_roc(gnbprediction,y_test)\n",
    "print(classification_report(y_test, gnbprediction))"
   ]
  },
  {
   "cell_type": "markdown",
   "metadata": {},
   "source": [
    "\n",
    "# Support Vector Machine"
   ]
  },
  {
   "cell_type": "code",
   "execution_count": 77,
   "metadata": {},
   "outputs": [],
   "source": [
    "from sklearn.svm import SVC\n",
    "\n",
    "clf = SVC(kernel='linear')\n",
    "clf.fit(x_train, y_train)\n",
    "\n",
    "svmprediction = clf.predict(x_test)"
   ]
  },
  {
   "cell_type": "code",
   "execution_count": 78,
   "metadata": {},
   "outputs": [
    {
     "name": "stdout",
     "output_type": "stream",
     "text": [
      "Accuracy:  0.99847172179264\n",
      "Precision:  0.9984738358258299\n",
      "Recall:  0.99847172179264\n",
      "F1_Score:  0.9984724217043198\n",
      "Confusion Matrix:  [[19316    52]\n",
      " [   99 79337]]\n",
      "[[19316    52]\n",
      " [   99 79337]]\n",
      "Plotting confusion matrix\n"
     ]
    },
    {
     "data": {
      "image/png": "[encoded data removed]",
      "text/plain": [
       "<Figure size 432x288 with 2 Axes>"
      ]
     },
     "metadata": {},
     "output_type": "display_data"
    },
    {
     "data": {
      "image/png": "[encoded data removed]",
      "text/plain": [
       "<Figure size 432x288 with 1 Axes>"
      ]
     },
     "metadata": {},
     "output_type": "display_data"
    },
    {
     "name": "stdout",
     "output_type": "stream",
     "text": [
      "             precision    recall  f1-score   support\n",
      "\n",
      "          0       0.99      1.00      1.00     19368\n",
      "          1       1.00      1.00      1.00     79436\n",
      "\n",
      "avg / total       1.00      1.00      1.00     98804\n",
      "\n"
     ]
    }
   ],
   "source": [
    "print(\"Accuracy: \", metrics.accuracy_score(y_test,svmprediction))\n",
    "print(\"Precision: \", metrics.precision_score(y_test,svmprediction, pos_label=1, average='weighted'))\n",
    "print(\"Recall: \", metrics.recall_score(y_test,svmprediction, pos_label=1, average='weighted'))\n",
    "print(\"F1_Score: \", metrics.f1_score(y_test,svmprediction, pos_label=1, average='weighted'))\n",
    "print(\"Confusion Matrix: \", metrics.confusion_matrix(y_test,svmprediction))\n",
    "cm = confusion_matrix(y_test, svmprediction)\n",
    "print(cm)\n",
    "print('Plotting confusion matrix')\n",
    "plt.figure()\n",
    "plot_confusion_matrix(cm, outcome)\n",
    "plt.show()\n",
    "plot_roc(svmprediction,y_test)\n",
    "print(classification_report(y_test, svmprediction))"
   ]
  },
  {
   "cell_type": "markdown",
   "metadata": {},
   "source": [
    "# Fully-Connected Neural Networks"
   ]
  },
  {
   "cell_type": "code",
   "execution_count": 29,
   "metadata": {},
   "outputs": [
    {
     "name": "stderr",
     "output_type": "stream",
     "text": [
      "C:\\Users\\rutwi\\Anaconda3\\lib\\site-packages\\h5py\\__init__.py:36: FutureWarning: Conversion of the second argument of issubdtype from `float` to `np.floating` is deprecated. In future, it will be treated as `np.float64 == np.dtype(float).type`.\n",
      "  from ._conv import register_converters as _register_converters\n",
      "Using TensorFlow backend.\n"
     ]
    },
    {
     "name": "stdout",
     "output_type": "stream",
     "text": [
      "Train on 370515 samples, validate on 123505 samples\n",
      "Epoch 1/100\n",
      " - 22s - loss: 0.0130 - val_loss: 0.0052\n",
      "Epoch 2/100\n",
      " - 22s - loss: 0.0041 - val_loss: 0.0035\n",
      "Epoch 3/100\n",
      " - 21s - loss: 0.0032 - val_loss: 0.0037\n",
      "Epoch 4/100\n",
      " - 22s - loss: 0.0026 - val_loss: 0.0026\n",
      "Epoch 5/100\n",
      " - 22s - loss: 0.0022 - val_loss: 0.0030\n",
      "Epoch 6/100\n",
      " - 22s - loss: 0.0020 - val_loss: 0.0024\n",
      "Epoch 7/100\n",
      " - 22s - loss: 0.0019 - val_loss: 0.0024\n",
      "Epoch 8/100\n",
      " - 22s - loss: 0.0018 - val_loss: 0.0022\n",
      "Epoch 9/100\n",
      " - 22s - loss: 0.0017 - val_loss: 0.0022\n",
      "Epoch 10/100\n",
      " - 22s - loss: 0.0016 - val_loss: 0.0020\n",
      "Epoch 11/100\n",
      " - 22s - loss: 0.0015 - val_loss: 0.0020\n",
      "Epoch 00011: early stopping\n",
      "Train on 370515 samples, validate on 123505 samples\n",
      "Epoch 1/100\n",
      " - 30s - loss: 0.0124 - val_loss: 0.0046\n",
      "Epoch 2/100\n",
      " - 27s - loss: 0.0042 - val_loss: 0.0032\n",
      "Epoch 3/100\n",
      " - 22s - loss: 0.0031 - val_loss: 0.0029\n",
      "Epoch 4/100\n",
      " - 22s - loss: 0.0026 - val_loss: 0.0025\n",
      "Epoch 5/100\n",
      " - 22s - loss: 0.0022 - val_loss: 0.0025\n",
      "Epoch 6/100\n",
      " - 22s - loss: 0.0021 - val_loss: 0.0023\n",
      "Epoch 7/100\n",
      " - 22s - loss: 0.0019 - val_loss: 0.0027\n",
      "Epoch 00007: early stopping\n",
      "Train on 370515 samples, validate on 123505 samples\n",
      "Epoch 1/100\n",
      " - 25s - loss: 0.0158 - val_loss: 0.0045\n",
      "Epoch 2/100\n",
      " - 22s - loss: 0.0041 - val_loss: 0.0035\n",
      "Epoch 3/100\n",
      " - 22s - loss: 0.0033 - val_loss: 0.0030\n",
      "Epoch 4/100\n",
      " - 20s - loss: 0.0027 - val_loss: 0.0034\n",
      "Epoch 5/100\n",
      " - 22s - loss: 0.0022 - val_loss: 0.0025\n",
      "Epoch 6/100\n",
      " - 22s - loss: 0.0021 - val_loss: 0.0023\n",
      "Epoch 7/100\n",
      " - 21s - loss: 0.0018 - val_loss: 0.0026\n",
      "Epoch 8/100\n",
      " - 22s - loss: 0.0018 - val_loss: 0.0023\n",
      "Epoch 00008: early stopping\n",
      "Train on 370515 samples, validate on 123505 samples\n",
      "Epoch 1/100\n",
      " - 22s - loss: 0.0155 - val_loss: 0.0044\n",
      "Epoch 2/100\n",
      " - 21s - loss: 0.0040 - val_loss: 0.0031\n",
      "Epoch 3/100\n",
      " - 22s - loss: 0.0030 - val_loss: 0.0028\n",
      "Epoch 4/100\n",
      " - 21s - loss: 0.0025 - val_loss: 0.0035\n",
      "Epoch 5/100\n",
      " - 21s - loss: 0.0022 - val_loss: 0.0029\n",
      "Epoch 6/100\n",
      " - 21s - loss: 0.0020 - val_loss: 0.0025\n",
      "Epoch 7/100\n",
      " - 23s - loss: 0.0019 - val_loss: 0.0023\n",
      "Epoch 00007: early stopping\n",
      "Train on 370515 samples, validate on 123505 samples\n",
      "Epoch 1/100\n",
      " - 23s - loss: 0.0162 - val_loss: 0.0041\n",
      "Epoch 2/100\n",
      " - 23s - loss: 0.0039 - val_loss: 0.0034\n",
      "Epoch 3/100\n",
      " - 23s - loss: 0.0029 - val_loss: 0.0029\n",
      "Epoch 4/100\n",
      " - 23s - loss: 0.0025 - val_loss: 0.0027\n",
      "Epoch 5/100\n",
      " - 23s - loss: 0.0022 - val_loss: 0.0025\n",
      "Epoch 6/100\n",
      " - 23s - loss: 0.0021 - val_loss: 0.0024\n",
      "Epoch 7/100\n",
      " - 22s - loss: 0.0019 - val_loss: 0.0024\n",
      "Epoch 8/100\n",
      " - 22s - loss: 0.0018 - val_loss: 0.0024\n",
      "Epoch 00008: early stopping\n",
      "Accuracy score: 0.9994818023561799\n",
      "Confusion Matrix: [[24256    29]\n",
      " [   35 99185]]\n"
     ]
    }
   ],
   "source": [
    "import tensorflow as tf\n",
    "from keras.models import Sequential\n",
    "from keras.layers.core import Dense, Activation\n",
    "from keras.callbacks import EarlyStopping\n",
    "from keras.callbacks import ModelCheckpoint\n",
    "import os\n",
    "import io\n",
    "import requests\n",
    "from sklearn import metrics\n",
    "\n",
    "x,y = to_xy(df_new, 'enc_outcome')\n",
    "x_train_ann_class, x_test_ann_class, y_train_ann_class, y_test_ann_class = train_test_split(x, y, test_size=0.25, random_state=42)\n",
    "checkpointer = ModelCheckpoint(filepath=\"dnn/best_weights_fairclass.hdf5\", verbose=0, save_best_only=True) # save best model\n",
    "\n",
    "for i in range(5):\n",
    "    model = Sequential()\n",
    "    model.add(Dense(60, input_dim=x.shape[1], activation='sigmoid')) # Hidden 1\n",
    "    model.add(Dense(45, activation='sigmoid')) # Hidden 2\n",
    "    model.add(Dense(30, activation='sigmoid')) # Hidden 3\n",
    "    model.add(Dense(2, activation='softmax')) # Output\n",
    "    model.compile(loss='categorical_crossentropy', optimizer='adam')\n",
    "    monitor = EarlyStopping(monitor='val_loss', min_delta=1e-3, patience=5, verbose=1, mode='auto')\n",
    "    model.fit(x_train_ann_class, y_train_ann_class, validation_data=(x_test_ann_class,y_test_ann_class), callbacks=[monitor,checkpointer], verbose=2, epochs=100)  \n",
    "\n",
    "    \n",
    "\n",
    "model.load_weights('dnn/best_weights_fairclass.hdf5')\n",
    "pred = model.predict(x_test_ann_class)\n",
    "pred = np.argmax(pred,axis=1)\n",
    "y_true= np.argmax(y_test_ann_class,axis=1) \n",
    "score = metrics.accuracy_score(y_true, pred)\n",
    "print(\"Accuracy score: {}\".format(score))\n",
    "print(\"Confusion Matrix: {}\".format(metrics.confusion_matrix(y_true, pred)))"
   ]
  },
  {
   "cell_type": "code",
   "execution_count": 74,
   "metadata": {},
   "outputs": [
    {
     "name": "stdout",
     "output_type": "stream",
     "text": [
      "[[24256    29]\n",
      " [   35 99185]]\n",
      "Plotting confusion matrix\n"
     ]
    },
    {
     "data": {
      "image/png": "[encoded data removed]",
      "text/plain": [
       "<Figure size 432x288 with 2 Axes>"
      ]
     },
     "metadata": {},
     "output_type": "display_data"
    },
    {
     "data": {
      "image/png": "[encoded data removed]",
      "text/plain": [
       "<Figure size 432x288 with 1 Axes>"
      ]
     },
     "metadata": {},
     "output_type": "display_data"
    },
    {
     "name": "stdout",
     "output_type": "stream",
     "text": [
      "             precision    recall  f1-score   support\n",
      "\n",
      "          0       1.00      1.00      1.00     24285\n",
      "          1       1.00      1.00      1.00     99220\n",
      "\n",
      "avg / total       1.00      1.00      1.00    123505\n",
      "\n"
     ]
    }
   ],
   "source": [
    "cm = confusion_matrix(y_true, pred)\n",
    "print(cm)\n",
    "print('Plotting confusion matrix')\n",
    "plt.figure()\n",
    "plot_confusion_matrix(cm, outcome)\n",
    "plt.show()\n",
    "plot_roc(pred,y_true)\n",
    "print(classification_report(y_true, pred))"
   ]
  },
  {
   "cell_type": "markdown",
   "metadata": {},
   "source": [
    "# Convolutional Neural Networks (CNN)"
   ]
  },
  {
   "cell_type": "code",
   "execution_count": 88,
   "metadata": {},
   "outputs": [],
   "source": [
    "x,y = to_xy(df_new, 'enc_outcome')\n",
    "x_train, x_test, y_train, y_test = train_test_split(df_new[traincols],df_new['enc_outcome'], test_size=0.2, random_state=42)"
   ]
  },
  {
   "cell_type": "code",
   "execution_count": 90,
   "metadata": {},
   "outputs": [
    {
     "name": "stderr",
     "output_type": "stream",
     "text": [
      "C:\\Users\\rutwi\\Anaconda3\\lib\\site-packages\\ipykernel_launcher.py:1: FutureWarning: Method .as_matrix will be removed in a future version. Use .values instead.\n",
      "  \"\"\"Entry point for launching an IPython kernel.\n",
      "C:\\Users\\rutwi\\Anaconda3\\lib\\site-packages\\ipykernel_launcher.py:2: FutureWarning: Method .as_matrix will be removed in a future version. Use .values instead.\n",
      "  \n"
     ]
    }
   ],
   "source": [
    "x_train = x_train.as_matrix()\n",
    "x_test = x_test.as_matrix()"
   ]
  },
  {
   "cell_type": "code",
   "execution_count": 94,
   "metadata": {},
   "outputs": [],
   "source": [
    "x_train = x_train.reshape(x_train.shape[0], 1, 122, 1)\n",
    "x_test = x_test.reshape(x_test.shape[0], 1, 122, 1)"
   ]
  },
  {
   "cell_type": "code",
   "execution_count": 100,
   "metadata": {},
   "outputs": [],
   "source": [
    "y_train = keras.utils.to_categorical(y_train, 2)\n",
    "y_test = keras.utils.to_categorical(y_test, 2)"
   ]
  },
  {
   "cell_type": "code",
   "execution_count": 101,
   "metadata": {},
   "outputs": [
    {
     "name": "stdout",
     "output_type": "stream",
     "text": [
      "(395216, 1, 122, 1)\n",
      "(395216, 2)\n",
      "(98804, 1, 122, 1)\n",
      "(98804, 2)\n"
     ]
    }
   ],
   "source": [
    "print(x_train.shape)\n",
    "print(y_train.shape)\n",
    "print(x_test.shape)\n",
    "print(y_test.shape)"
   ]
  },
  {
   "cell_type": "code",
   "execution_count": 102,
   "metadata": {},
   "outputs": [
    {
     "name": "stdout",
     "output_type": "stream",
     "text": [
      "_________________________________________________________________\n",
      "Layer (type)                 Output Shape              Param #   \n",
      "=================================================================\n",
      "conv2d_13 (Conv2D)           (None, 1, 119, 32)        160       \n",
      "_________________________________________________________________\n",
      "max_pooling2d_8 (MaxPooling2 (None, 1, 59, 32)         0         \n",
      "_________________________________________________________________\n",
      "conv2d_14 (Conv2D)           (None, 1, 56, 64)         8256      \n",
      "_________________________________________________________________\n",
      "max_pooling2d_9 (MaxPooling2 (None, 1, 28, 64)         0         \n",
      "_________________________________________________________________\n",
      "flatten_6 (Flatten)          (None, 1792)              0         \n",
      "_________________________________________________________________\n",
      "dense_31 (Dense)             (None, 256)               459008    \n",
      "_________________________________________________________________\n",
      "dropout_9 (Dropout)          (None, 256)               0         \n",
      "_________________________________________________________________\n",
      "dense_32 (Dense)             (None, 2)                 514       \n",
      "=================================================================\n",
      "Total params: 467,938\n",
      "Trainable params: 467,938\n",
      "Non-trainable params: 0\n",
      "_________________________________________________________________\n"
     ]
    }
   ],
   "source": [
    "from keras.layers import Dense, Dropout, Flatten\n",
    "from keras.layers import Conv2D, MaxPooling2D\n",
    "batch_size = 128\n",
    "rows, cols = 1, 122\n",
    "model = Sequential()\n",
    "input_shape = (rows, cols, 1)\n",
    "model.add(Conv2D(32, kernel_size=(1, 4), strides=(1, 1),\n",
    "                 activation='relu',\n",
    "                 input_shape=input_shape)) \n",
    "model.add(MaxPooling2D(pool_size=(1,2)))\n",
    "model.add(Conv2D(64, (1, 4), activation='relu'))\n",
    "model.add(MaxPooling2D(pool_size=(1, 2), strides=None))\n",
    "#model.add(Dropout(0.25))\n",
    "model.add(Flatten())\n",
    "model.add(Dense(256, activation='relu'))\n",
    "model.add(Dropout(0.5))\n",
    "model.add(Dense(2, activation='softmax'))\n",
    "model.summary()\n",
    "model.compile(loss=\"categorical_crossentropy\", optimizer=\"adam\")\n",
    "\n",
    "\n"
   ]
  },
  {
   "cell_type": "code",
   "execution_count": 105,
   "metadata": {},
   "outputs": [
    {
     "name": "stdout",
     "output_type": "stream",
     "text": [
      "Train on 40000 samples, validate on 4000 samples\n",
      "Epoch 1/3\n",
      " - 982s - loss: 0.0091 - val_loss: 0.0076\n",
      "Epoch 2/3\n",
      " - 936s - loss: 0.0070 - val_loss: 0.0058\n",
      "Epoch 3/3\n",
      " - 941s - loss: 0.0055 - val_loss: 0.0045\n",
      "Elapsed time: 0:47:38.65\n"
     ]
    }
   ],
   "source": [
    "import time\n",
    "start_time = time.time()\n",
    "model.fit(x_train[0:40000], y_train[0:40000],     \n",
    "          batch_size=batch_size,\n",
    "          epochs=3,#try larger number here - inclass note\n",
    "          verbose=2,\n",
    "          validation_data=(x_test[0:4000], y_test[0:4000]))\n",
    "elapsed_time = time.time() - start_time\n",
    "print(\"Elapsed time: {}\".format(hms_string(elapsed_time)))"
   ]
  },
  {
   "cell_type": "code",
   "execution_count": 114,
   "metadata": {},
   "outputs": [
    {
     "name": "stdout",
     "output_type": "stream",
     "text": [
      "Accuracy: 0.9984616007449091\n",
      "Averaged F1: 0.998461780856997\n",
      "[[19298    70]\n",
      " [   82 79354]]\n",
      "Plotting confusion matrix\n"
     ]
    },
    {
     "data": {
      "image/png": "[encoded data removed]",
      "text/plain": [
       "<Figure size 432x288 with 2 Axes>"
      ]
     },
     "metadata": {},
     "output_type": "display_data"
    },
    {
     "data": {
      "image/png": "[encoded data removed]",
      "text/plain": [
       "<Figure size 432x288 with 1 Axes>"
      ]
     },
     "metadata": {},
     "output_type": "display_data"
    },
    {
     "name": "stdout",
     "output_type": "stream",
     "text": [
      "             precision    recall  f1-score   support\n",
      "\n",
      "          0       1.00      1.00      1.00     19368\n",
      "          1       1.00      1.00      1.00     79436\n",
      "\n",
      "avg / total       1.00      1.00      1.00     98804\n",
      "\n"
     ]
    }
   ],
   "source": [
    "from sklearn import metrics\n",
    "y_true = np.argmax(y_test,axis=1)\n",
    "pred = model.predict(x_test)\n",
    "pred = np.argmax(pred,axis=1)\n",
    "\n",
    "score = metrics.accuracy_score(y_true, pred)\n",
    "print('Accuracy: {}'.format(score))\n",
    "\n",
    "\n",
    "f1 = metrics.f1_score(y_true, pred, average='weighted')\n",
    "print('Averaged F1: {}'.format(f1))\n",
    "cm = confusion_matrix(y_true, pred)\n",
    "print(cm)\n",
    "print('Plotting confusion matrix')\n",
    "plt.figure()\n",
    "plot_confusion_matrix(cm, outcome)\n",
    "plt.show()\n",
    "plot_roc(pred,y_true)\n",
    "print(classification_report(y_true, pred))"
   ]
  },
  {
   "cell_type": "markdown",
   "metadata": {},
   "source": [
    "# Model Checkpointing and Early Stopping, Saving and Loading Best Weights"
   ]
  },
  {
   "cell_type": "code",
   "execution_count": 118,
   "metadata": {},
   "outputs": [
    {
     "name": "stdout",
     "output_type": "stream",
     "text": [
      "_________________________________________________________________\n",
      "Layer (type)                 Output Shape              Param #   \n",
      "=================================================================\n",
      "conv2d_18 (Conv2D)           (None, 1, 113, 64)        704       \n",
      "_________________________________________________________________\n",
      "max_pooling2d_12 (MaxPooling (None, 1, 56, 64)         0         \n",
      "_________________________________________________________________\n",
      "conv2d_19 (Conv2D)           (None, 1, 53, 128)        32896     \n",
      "_________________________________________________________________\n",
      "max_pooling2d_13 (MaxPooling (None, 1, 5, 128)         0         \n",
      "_________________________________________________________________\n",
      "flatten_8 (Flatten)          (None, 640)               0         \n",
      "_________________________________________________________________\n",
      "dense_35 (Dense)             (None, 1024)              656384    \n",
      "_________________________________________________________________\n",
      "dropout_11 (Dropout)         (None, 1024)              0         \n",
      "_________________________________________________________________\n",
      "dense_36 (Dense)             (None, 2)                 2050      \n",
      "=================================================================\n",
      "Total params: 692,034\n",
      "Trainable params: 692,034\n",
      "Non-trainable params: 0\n",
      "_________________________________________________________________\n",
      "Train on 5000 samples, validate on 98804 samples\n",
      "Epoch 1/3\n",
      "5000/5000 [==============================] - 126s 25ms/step - loss: 0.1232 - val_loss: 0.0254\n",
      "Epoch 2/3\n",
      "5000/5000 [==============================] - 131s 26ms/step - loss: 0.0274 - val_loss: 0.0194\n",
      "Epoch 3/3\n",
      "5000/5000 [==============================] - 128s 26ms/step - loss: 0.0205 - val_loss: 0.0251\n",
      "_________________________________________________________________\n",
      "Layer (type)                 Output Shape              Param #   \n",
      "=================================================================\n",
      "conv2d_20 (Conv2D)           (None, 1, 113, 64)        704       \n",
      "_________________________________________________________________\n",
      "max_pooling2d_14 (MaxPooling (None, 1, 56, 64)         0         \n",
      "_________________________________________________________________\n",
      "conv2d_21 (Conv2D)           (None, 1, 53, 128)        32896     \n",
      "_________________________________________________________________\n",
      "max_pooling2d_15 (MaxPooling (None, 1, 5, 128)         0         \n",
      "_________________________________________________________________\n",
      "flatten_9 (Flatten)          (None, 640)               0         \n",
      "_________________________________________________________________\n",
      "dense_37 (Dense)             (None, 1024)              656384    \n",
      "_________________________________________________________________\n",
      "dropout_12 (Dropout)         (None, 1024)              0         \n",
      "_________________________________________________________________\n",
      "dense_38 (Dense)             (None, 2)                 2050      \n",
      "=================================================================\n",
      "Total params: 692,034\n",
      "Trainable params: 692,034\n",
      "Non-trainable params: 0\n",
      "_________________________________________________________________\n",
      "Train on 5000 samples, validate on 98804 samples\n",
      "Epoch 1/3\n",
      "5000/5000 [==============================] - 130s 26ms/step - loss: 0.1280 - val_loss: 0.0256\n",
      "Epoch 2/3\n",
      "5000/5000 [==============================] - 128s 26ms/step - loss: 0.0293 - val_loss: 0.0199\n",
      "Epoch 3/3\n",
      "5000/5000 [==============================] - 130s 26ms/step - loss: 0.0157 - val_loss: 0.0132\n",
      "Elapsed time: 0:06:28.74\n"
     ]
    }
   ],
   "source": [
    "batch_size = 64\n",
    "rows, cols = 1, 122\n",
    "checkpointer = ModelCheckpoint(filepath=\"cnn/best_weights_fairclass.hdf5\", verbose=0, save_best_only=True) # save best model\n",
    "\n",
    "for i in range(2):\n",
    "    model = Sequential()\n",
    "    input_shape = (rows, cols, 1)\n",
    "    model.add(Conv2D(64, kernel_size=(1, 10), strides=(1, 1),activation='relu',input_shape=input_shape)) \n",
    "    model.add(MaxPooling2D(pool_size=(1,2)))\n",
    "    model.add(Conv2D(128, (1, 4), activation='relu'))\n",
    "    model.add(MaxPooling2D(pool_size=(1, 10), strides=None))\n",
    "    #model.add(Dropout(0.25))\n",
    "    model.add(Flatten())\n",
    "    model.add(Dense(1024, activation='relu'))\n",
    "    model.add(Dropout(0.5))\n",
    "    model.add(Dense(2, activation='softmax'))\n",
    "    model.summary()\n",
    "    model.compile(loss=\"categorical_crossentropy\", optimizer=\"adam\")\n",
    "    start_time = time.time()\n",
    "    monitor = EarlyStopping(monitor='val_loss', min_delta=1e-3, patience =5, verbose=2, mode='auto')\n",
    "    model.fit(x_train[0:5000], y_train[0:5000],batch_size=batch_size,epochs=3,verbose=1,validation_data=(x_test, y_test),callbacks=[monitor,checkpointer])\n",
    "    \n",
    "    #model.fit(x_train_ann, y_train_ann, validation_data=(x_test_ann,y_test_ann), callbacks=[monitor,checkpointer], verbose=2, epochs=10)  \n",
    "elapsed_time = time.time() - start_time\n",
    "print(\"Elapsed time: {}\".format(hms_string(elapsed_time)))"
   ]
  },
  {
   "cell_type": "code",
   "execution_count": 119,
   "metadata": {},
   "outputs": [
    {
     "name": "stdout",
     "output_type": "stream",
     "text": [
      "Accuracy: 0.9960527913849642\n",
      "Averaged F1: 0.996050242488511\n",
      "[[19140   228]\n",
      " [  162 79274]]\n",
      "Plotting confusion matrix\n"
     ]
    },
    {
     "data": {
      "image/png": "[encoded data removed]",
      "text/plain": [
       "<Figure size 432x288 with 2 Axes>"
      ]
     },
     "metadata": {},
     "output_type": "display_data"
    },
    {
     "data": {
      "image/png": "[encoded data removed]",
      "text/plain": [
       "<Figure size 432x288 with 1 Axes>"
      ]
     },
     "metadata": {},
     "output_type": "display_data"
    },
    {
     "name": "stdout",
     "output_type": "stream",
     "text": [
      "             precision    recall  f1-score   support\n",
      "\n",
      "          0       0.99      0.99      0.99     19368\n",
      "          1       1.00      1.00      1.00     79436\n",
      "\n",
      "avg / total       1.00      1.00      1.00     98804\n",
      "\n"
     ]
    }
   ],
   "source": [
    "from sklearn import metrics\n",
    "\n",
    "model.load_weights('cnn/best_weights_fairclass.hdf5')\n",
    "y_true = np.argmax(y_test,axis=1)\n",
    "pred = model.predict(x_test)\n",
    "pred = np.argmax(pred,axis=1)\n",
    "\n",
    "score = metrics.accuracy_score(y_true, pred)\n",
    "print('Accuracy: {}'.format(score))\n",
    "\n",
    "\n",
    "f1 = metrics.f1_score(y_true, pred, average='weighted')\n",
    "print('Averaged F1: {}'.format(f1))\n",
    "cm = confusion_matrix(y_true, pred)\n",
    "print(cm)\n",
    "print('Plotting confusion matrix')\n",
    "plt.figure()\n",
    "plot_confusion_matrix(cm, outcome)\n",
    "plt.show()\n",
    "plot_roc(pred,y_true)\n",
    "print(classification_report(y_true, pred))"
   ]
  },
  {
   "cell_type": "markdown",
   "metadata": {},
   "source": [
    "# Hypertuning of Parameters on CNN"
   ]
  },
  {
   "cell_type": "code",
   "execution_count": 120,
   "metadata": {},
   "outputs": [
    {
     "name": "stdout",
     "output_type": "stream",
     "text": [
      "_________________________________________________________________\n",
      "Layer (type)                 Output Shape              Param #   \n",
      "=================================================================\n",
      "conv2d_22 (Conv2D)           (None, 1, 118, 32)        192       \n",
      "_________________________________________________________________\n",
      "max_pooling2d_16 (MaxPooling (None, 1, 39, 32)         0         \n",
      "_________________________________________________________________\n",
      "conv2d_23 (Conv2D)           (None, 1, 35, 128)        20608     \n",
      "_________________________________________________________________\n",
      "max_pooling2d_17 (MaxPooling (None, 1, 11, 128)        0         \n",
      "_________________________________________________________________\n",
      "flatten_10 (Flatten)         (None, 1408)              0         \n",
      "_________________________________________________________________\n",
      "dense_39 (Dense)             (None, 512)               721408    \n",
      "_________________________________________________________________\n",
      "dropout_13 (Dropout)         (None, 512)               0         \n",
      "_________________________________________________________________\n",
      "dense_40 (Dense)             (None, 2)                 1026      \n",
      "=================================================================\n",
      "Total params: 743,234\n",
      "Trainable params: 743,234\n",
      "Non-trainable params: 0\n",
      "_________________________________________________________________\n",
      "Train on 6000 samples, validate on 600 samples\n",
      "Epoch 1/3\n",
      "6000/6000 [==============================] - 147s 24ms/step - loss: 0.2901 - val_loss: 0.1147\n",
      "Epoch 2/3\n",
      "6000/6000 [==============================] - 146s 24ms/step - loss: 0.0932 - val_loss: 0.0557\n",
      "Epoch 3/3\n",
      "6000/6000 [==============================] - 143s 24ms/step - loss: 0.0630 - val_loss: 0.0415\n",
      "_________________________________________________________________\n",
      "Layer (type)                 Output Shape              Param #   \n",
      "=================================================================\n",
      "conv2d_24 (Conv2D)           (None, 1, 118, 32)        192       \n",
      "_________________________________________________________________\n",
      "max_pooling2d_18 (MaxPooling (None, 1, 39, 32)         0         \n",
      "_________________________________________________________________\n",
      "conv2d_25 (Conv2D)           (None, 1, 35, 128)        20608     \n",
      "_________________________________________________________________\n",
      "max_pooling2d_19 (MaxPooling (None, 1, 11, 128)        0         \n",
      "_________________________________________________________________\n",
      "flatten_11 (Flatten)         (None, 1408)              0         \n",
      "_________________________________________________________________\n",
      "dense_41 (Dense)             (None, 512)               721408    \n",
      "_________________________________________________________________\n",
      "dropout_14 (Dropout)         (None, 512)               0         \n",
      "_________________________________________________________________\n",
      "dense_42 (Dense)             (None, 2)                 1026      \n",
      "=================================================================\n",
      "Total params: 743,234\n",
      "Trainable params: 743,234\n",
      "Non-trainable params: 0\n",
      "_________________________________________________________________\n",
      "Train on 6000 samples, validate on 600 samples\n",
      "Epoch 1/3\n",
      "6000/6000 [==============================] - 143s 24ms/step - loss: 0.2732 - val_loss: 0.1078\n",
      "Epoch 2/3\n",
      "6000/6000 [==============================] - 141s 24ms/step - loss: 0.0933 - val_loss: 0.0555\n",
      "Epoch 3/3\n",
      "6000/6000 [==============================] - 143s 24ms/step - loss: 0.0628 - val_loss: 0.0412\n",
      "Elapsed time: 0:07:08.42\n"
     ]
    }
   ],
   "source": [
    "batch_size = 32\n",
    "rows, cols = 1, 122\n",
    "checkpointer = ModelCheckpoint(filepath=\"cnn/best_weights_fairclass1.hdf5\", verbose=0, save_best_only=True) # save best model\n",
    "\n",
    "for i in range(2):\n",
    "    model = Sequential()\n",
    "    input_shape = (rows, cols, 1)\n",
    "    model.add(Conv2D(32, kernel_size=(1, 5), strides=(1, 1),activation='tanh',input_shape=input_shape)) \n",
    "    model.add(MaxPooling2D(pool_size=(1,3)))\n",
    "    model.add(Conv2D(128, (1, 5), activation='tanh'))\n",
    "    model.add(MaxPooling2D(pool_size=(1,3), strides=None))\n",
    "    #model.add(Dropout(0.25))\n",
    "    model.add(Flatten())\n",
    "    model.add(Dense(512, activation='tanh'))\n",
    "    model.add(Dropout(0.5))\n",
    "    model.add(Dense(2, activation='softmax'))\n",
    "    model.summary()\n",
    "    model.compile(loss=\"categorical_crossentropy\", optimizer=\"sgd\")\n",
    "    start_time = time.time()\n",
    "    monitor = EarlyStopping(monitor='val_loss', min_delta=1e-3, patience =5, verbose=2, mode='auto')\n",
    "    model.fit(x_train[0:6000], y_train[0:6000],batch_size=batch_size,epochs=3,verbose=1,validation_data=(x_test[0:600], y_test[0:600]),callbacks=[monitor,checkpointer])\n",
    "    \n",
    "    #model.fit(x_train_ann, y_train_ann, validation_data=(x_test_ann,y_test_ann), callbacks=[monitor,checkpointer], verbose=2, epochs=10)  \n",
    "elapsed_time = time.time() - start_time\n",
    "print(\"Elapsed time: {}\".format(hms_string(elapsed_time)))"
   ]
  },
  {
   "cell_type": "code",
   "execution_count": 121,
   "metadata": {},
   "outputs": [
    {
     "name": "stdout",
     "output_type": "stream",
     "text": [
      "Accuracy: 0.9883333333333333\n",
      "Averaged F1: 0.9883523366960928\n",
      "[[113   3]\n",
      " [  4 480]]\n",
      "Plotting confusion matrix\n"
     ]
    },
    {
     "data": {
      "image/png": "[encoded data removed]",
      "text/plain": [
       "<Figure size 432x288 with 2 Axes>"
      ]
     },
     "metadata": {},
     "output_type": "display_data"
    },
    {
     "data": {
      "image/png": "[encoded data removed]",
      "text/plain": [
       "<Figure size 432x288 with 1 Axes>"
      ]
     },
     "metadata": {},
     "output_type": "display_data"
    },
    {
     "name": "stdout",
     "output_type": "stream",
     "text": [
      "             precision    recall  f1-score   support\n",
      "\n",
      "          0       0.97      0.97      0.97       116\n",
      "          1       0.99      0.99      0.99       484\n",
      "\n",
      "avg / total       0.99      0.99      0.99       600\n",
      "\n"
     ]
    }
   ],
   "source": [
    "from sklearn import metrics\n",
    "\n",
    "model.load_weights('cnn/best_weights_fairclass1.hdf5')\n",
    "y_true = np.argmax(y_test[0:600],axis=1)\n",
    "pred = model.predict(x_test[0:600])\n",
    "pred = np.argmax(pred,axis=1)\n",
    "\n",
    "score = metrics.accuracy_score(y_true, pred)\n",
    "print('Accuracy: {}'.format(score))\n",
    "\n",
    "\n",
    "f1 = metrics.f1_score(y_true, pred, average='weighted')\n",
    "print('Averaged F1: {}'.format(f1))\n",
    "cm = confusion_matrix(y_true, pred)\n",
    "print(cm)\n",
    "print('Plotting confusion matrix')\n",
    "plt.figure()\n",
    "plot_confusion_matrix(cm, outcome)\n",
    "plt.show()\n",
    "plot_roc(pred,y_true)\n",
    "print(classification_report(y_true, pred))"
   ]
  },
  {
   "cell_type": "code",
   "execution_count": 122,
   "metadata": {},
   "outputs": [
    {
     "name": "stdout",
     "output_type": "stream",
     "text": [
      "Train on 6000 samples, validate on 600 samples\n",
      "Epoch 1/3\n",
      "6000/6000 [==============================] - 144s 24ms/step - loss: 3.1929 - val_loss: 3.1162\n",
      "Epoch 2/3\n",
      "6000/6000 [==============================] - 142s 24ms/step - loss: 3.2344 - val_loss: 3.1162\n",
      "Epoch 3/3\n",
      "6000/6000 [==============================] - 144s 24ms/step - loss: 3.2344 - val_loss: 3.1162\n",
      "Train on 6000 samples, validate on 600 samples\n",
      "Epoch 1/3\n",
      "6000/6000 [==============================] - 143s 24ms/step - loss: 3.1783 - val_loss: 3.1162\n",
      "Epoch 2/3\n",
      "6000/6000 [==============================] - 144s 24ms/step - loss: 3.2344 - val_loss: 3.1162\n",
      "Epoch 3/3\n",
      "6000/6000 [==============================] - 143s 24ms/step - loss: 3.2344 - val_loss: 3.1162\n",
      "Elapsed time: 0:07:10.21\n",
      "Accuracy: 0.8066666666666666\n",
      "Averaged F1: 0.7203444034440345\n",
      "[[  0 116]\n",
      " [  0 484]]\n",
      "Plotting confusion matrix\n"
     ]
    },
    {
     "name": "stderr",
     "output_type": "stream",
     "text": [
      "C:\\Users\\rutwi\\Anaconda3\\lib\\site-packages\\sklearn\\metrics\\classification.py:1135: UndefinedMetricWarning: F-score is ill-defined and being set to 0.0 in labels with no predicted samples.\n",
      "  'precision', 'predicted', average, warn_for)\n"
     ]
    },
    {
     "data": {
      "image/png": "[encoded data removed]",
      "text/plain": [
       "<Figure size 432x288 with 2 Axes>"
      ]
     },
     "metadata": {},
     "output_type": "display_data"
    },
    {
     "data": {
      "image/png": "[encoded data removed]",
      "text/plain": [
       "<Figure size 432x288 with 1 Axes>"
      ]
     },
     "metadata": {},
     "output_type": "display_data"
    },
    {
     "name": "stdout",
     "output_type": "stream",
     "text": [
      "             precision    recall  f1-score   support\n",
      "\n",
      "          0       0.00      0.00      0.00       116\n",
      "          1       0.81      1.00      0.89       484\n",
      "\n",
      "avg / total       0.65      0.81      0.72       600\n",
      "\n"
     ]
    },
    {
     "name": "stderr",
     "output_type": "stream",
     "text": [
      "C:\\Users\\rutwi\\Anaconda3\\lib\\site-packages\\sklearn\\metrics\\classification.py:1135: UndefinedMetricWarning: Precision and F-score are ill-defined and being set to 0.0 in labels with no predicted samples.\n",
      "  'precision', 'predicted', average, warn_for)\n"
     ]
    }
   ],
   "source": [
    "batch_size = 128\n",
    "rows, cols = 1, 122\n",
    "checkpointer = ModelCheckpoint(filepath=\"cnn/best_weights_fairclass2.hdf5\", verbose=0, save_best_only=True) # save best model\n",
    "\n",
    "for i in range(2):\n",
    "    model = Sequential()\n",
    "    input_shape = (rows, cols, 1)\n",
    "    model.add(Conv2D(32, kernel_size=(1, 6), strides=(1, 1),activation='relu',input_shape=input_shape)) \n",
    "    model.add(MaxPooling2D(pool_size=(1,2)))\n",
    "    model.add(Conv2D(128, (1, 6), activation='sigmoid'))\n",
    "    model.add(MaxPooling2D(pool_size=(1, 2), strides=None))\n",
    "    #model.add(Dropout(0.25))\n",
    "    model.add(Flatten())\n",
    "    model.add(Dense(1024, activation='relu'))\n",
    "    model.add(Dropout(0.5))\n",
    "    model.add(Dense(2, activation='softmax'))\n",
    "    #model.summary()\n",
    "    model.compile(loss=\"categorical_crossentropy\", optimizer=\"rmsprop\")\n",
    "    start_time = time.time()\n",
    "    monitor = EarlyStopping(monitor='val_loss', min_delta=1e-3, patience =5, verbose=2, mode='auto')\n",
    "    model.fit(x_train[0:6000], y_train[0:6000],batch_size=batch_size,epochs=3,verbose=1,validation_data=(x_test[0:600], y_test[0:600]),callbacks=[monitor,checkpointer])\n",
    "    \n",
    "    \n",
    "elapsed_time = time.time() - start_time\n",
    "print(\"Elapsed time: {}\".format(hms_string(elapsed_time)))\n",
    "\n",
    "model.load_weights('cnn/best_weights_fairclass2.hdf5')\n",
    "y_true = np.argmax(y_test[0:600],axis=1)\n",
    "pred = model.predict(x_test[0:600])\n",
    "pred = np.argmax(pred,axis=1)\n",
    "\n",
    "score = metrics.accuracy_score(y_true, pred)\n",
    "print('Accuracy: {}'.format(score))\n",
    "\n",
    "\n",
    "f1 = metrics.f1_score(y_true, pred, average='weighted')\n",
    "print('Averaged F1: {}'.format(f1))\n",
    "cm = confusion_matrix(y_true, pred)\n",
    "print(cm)\n",
    "print('Plotting confusion matrix')\n",
    "plt.figure()\n",
    "plot_confusion_matrix(cm, outcome)\n",
    "plt.show()\n",
    "plot_roc(pred,y_true)\n",
    "print(classification_report(y_true, pred))"
   ]
  },
  {
   "cell_type": "code",
   "execution_count": 123,
   "metadata": {},
   "outputs": [
    {
     "name": "stdout",
     "output_type": "stream",
     "text": [
      "Train on 6000 samples, validate on 600 samples\n",
      "Epoch 1/3\n",
      "6000/6000 [==============================] - 144s 24ms/step - loss: 0.0658 - val_loss: 0.0081\n",
      "Epoch 2/3\n",
      "6000/6000 [==============================] - 143s 24ms/step - loss: 0.0166 - val_loss: 0.0092\n",
      "Epoch 3/3\n",
      "6000/6000 [==============================] - 142s 24ms/step - loss: 0.0173 - val_loss: 0.0109\n",
      "Train on 6000 samples, validate on 600 samples\n",
      "Epoch 1/3\n",
      "6000/6000 [==============================] - 143s 24ms/step - loss: 0.0641 - val_loss: 0.0116\n",
      "Epoch 2/3\n",
      "6000/6000 [==============================] - 143s 24ms/step - loss: 0.0164 - val_loss: 0.0119\n",
      "Epoch 3/3\n",
      "6000/6000 [==============================] - 143s 24ms/step - loss: 0.0174 - val_loss: 0.0452\n",
      "Elapsed time: 0:07:09.38\n",
      "Accuracy: 0.9983333333333333\n",
      "Averaged F1: 0.998330585822846\n",
      "[[115   1]\n",
      " [  0 484]]\n",
      "Plotting confusion matrix\n"
     ]
    },
    {
     "data": {
      "image/png": "[encoded data removed]",
      "text/plain": [
       "<Figure size 432x288 with 2 Axes>"
      ]
     },
     "metadata": {},
     "output_type": "display_data"
    },
    {
     "data": {
      "image/png": "[encoded data removed]",
      "text/plain": [
       "<Figure size 432x288 with 1 Axes>"
      ]
     },
     "metadata": {},
     "output_type": "display_data"
    },
    {
     "name": "stdout",
     "output_type": "stream",
     "text": [
      "             precision    recall  f1-score   support\n",
      "\n",
      "          0       1.00      0.99      1.00       116\n",
      "          1       1.00      1.00      1.00       484\n",
      "\n",
      "avg / total       1.00      1.00      1.00       600\n",
      "\n"
     ]
    }
   ],
   "source": [
    "batch_size = 64\n",
    "rows, cols = 1, 122\n",
    "checkpointer = ModelCheckpoint(filepath=\"cnn/best_weights_fairclass3.hdf5\", verbose=0, save_best_only=True) # save best model\n",
    "\n",
    "for i in range(2):\n",
    "    model = Sequential()\n",
    "    input_shape = (rows, cols, 1)\n",
    "    model.add(Conv2D(64, kernel_size=(1, 8), strides=(1, 1),activation='relu',input_shape=input_shape)) \n",
    "    model.add(MaxPooling2D(pool_size=(1,2)))\n",
    "    model.add(Conv2D(128, (1, 8), activation='tanh'))\n",
    "    model.add(MaxPooling2D(pool_size=(1, 2), strides=None))\n",
    "    #model.add(Dropout(0.25))\n",
    "    model.add(Flatten())\n",
    "    model.add(Dense(512, activation='relu'))\n",
    "    model.add(Dropout(0.5))\n",
    "    model.add(Dense(2, activation='softmax'))\n",
    "    #model.summary()\n",
    "    model.compile(loss=\"categorical_crossentropy\", optimizer=\"adam\")\n",
    "    start_time = time.time()\n",
    "    monitor = EarlyStopping(monitor='val_loss', min_delta=1e-3, patience =5, verbose=2, mode='auto')\n",
    "    model.fit(x_train[0:6000], y_train[0:6000],batch_size=batch_size,epochs=3,verbose=1,validation_data=(x_test[0:600], y_test[0:600]),callbacks=[monitor,checkpointer])\n",
    "    \n",
    "    \n",
    "elapsed_time = time.time() - start_time\n",
    "print(\"Elapsed time: {}\".format(hms_string(elapsed_time)))\n",
    "\n",
    "model.load_weights('cnn/best_weights_fairclass3.hdf5')\n",
    "y_true = np.argmax(y_test[0:600],axis=1)\n",
    "pred = model.predict(x_test[0:600])\n",
    "pred = np.argmax(pred,axis=1)\n",
    "\n",
    "score = metrics.accuracy_score(y_true, pred)\n",
    "print('Accuracy: {}'.format(score))\n",
    "\n",
    "\n",
    "f1 = metrics.f1_score(y_true, pred, average='weighted')\n",
    "print('Averaged F1: {}'.format(f1))\n",
    "cm = confusion_matrix(y_true, pred)\n",
    "print(cm)\n",
    "print('Plotting confusion matrix')\n",
    "plt.figure()\n",
    "plot_confusion_matrix(cm, outcome)\n",
    "plt.show()\n",
    "plot_roc(pred,y_true)\n",
    "print(classification_report(y_true, pred))"
   ]
  },
  {
   "cell_type": "code",
   "execution_count": 125,
   "metadata": {},
   "outputs": [
    {
     "name": "stdout",
     "output_type": "stream",
     "text": [
      "Train on 6000 samples, validate on 600 samples\n",
      "Epoch 1/3\n",
      "6000/6000 [==============================] - 143s 24ms/step - loss: 0.5740 - val_loss: 0.4686\n",
      "Epoch 2/3\n",
      "6000/6000 [==============================] - 145s 24ms/step - loss: 0.5182 - val_loss: 0.4397\n",
      "Epoch 3/3\n",
      "6000/6000 [==============================] - 139s 23ms/step - loss: 0.4903 - val_loss: 0.4230\n",
      "Train on 6000 samples, validate on 600 samples\n",
      "Epoch 1/3\n",
      "6000/6000 [==============================] - 144s 24ms/step - loss: 0.5659 - val_loss: 0.4615\n",
      "Epoch 2/3\n",
      "6000/6000 [==============================] - 142s 24ms/step - loss: 0.5276 - val_loss: 0.4341\n",
      "Epoch 3/3\n",
      "6000/6000 [==============================] - 142s 24ms/step - loss: 0.4922 - val_loss: 0.4010\n",
      "Elapsed time: 0:07:09.07\n",
      "Accuracy: 0.8066666666666666\n",
      "Averaged F1: 0.7203444034440345\n",
      "[[  0 116]\n",
      " [  0 484]]\n",
      "Plotting confusion matrix\n"
     ]
    },
    {
     "name": "stderr",
     "output_type": "stream",
     "text": [
      "C:\\Users\\rutwi\\Anaconda3\\lib\\site-packages\\sklearn\\metrics\\classification.py:1135: UndefinedMetricWarning: F-score is ill-defined and being set to 0.0 in labels with no predicted samples.\n",
      "  'precision', 'predicted', average, warn_for)\n"
     ]
    },
    {
     "data": {
      "image/png": "[encoded data removed]",
      "text/plain": [
       "<Figure size 432x288 with 2 Axes>"
      ]
     },
     "metadata": {},
     "output_type": "display_data"
    },
    {
     "data": {
      "image/png": "[encoded data removed]",
      "text/plain": [
       "<Figure size 432x288 with 1 Axes>"
      ]
     },
     "metadata": {},
     "output_type": "display_data"
    },
    {
     "name": "stdout",
     "output_type": "stream",
     "text": [
      "             precision    recall  f1-score   support\n",
      "\n",
      "          0       0.00      0.00      0.00       116\n",
      "          1       0.81      1.00      0.89       484\n",
      "\n",
      "avg / total       0.65      0.81      0.72       600\n",
      "\n"
     ]
    },
    {
     "name": "stderr",
     "output_type": "stream",
     "text": [
      "C:\\Users\\rutwi\\Anaconda3\\lib\\site-packages\\sklearn\\metrics\\classification.py:1135: UndefinedMetricWarning: Precision and F-score are ill-defined and being set to 0.0 in labels with no predicted samples.\n",
      "  'precision', 'predicted', average, warn_for)\n"
     ]
    }
   ],
   "source": [
    "batch_size = 64\n",
    "rows, cols = 1, 122\n",
    "checkpointer = ModelCheckpoint(filepath=\"cnn/best_weights_fairclass4.hdf5\", verbose=0, save_best_only=True) # save best model\n",
    "\n",
    "for i in range(2):\n",
    "    model = Sequential()\n",
    "    input_shape = (rows, cols, 1)\n",
    "    model.add(Conv2D(32, kernel_size=(1, 8), strides=(1, 1),activation='relu',input_shape=input_shape)) \n",
    "    model.add(MaxPooling2D(pool_size=(1,2)))\n",
    "    model.add(Conv2D(64, (1, 8), activation='tanh'))\n",
    "    model.add(MaxPooling2D(pool_size=(1, 2), strides=None))\n",
    "    #model.add(Dropout(0.25))\n",
    "    model.add(Flatten())\n",
    "    model.add(Dense(512, activation='sigmoid'))\n",
    "    model.add(Dropout(0.5))\n",
    "    model.add(Dense(2, activation='softmax'))\n",
    "    #model.summary()\n",
    "    model.compile(loss=\"categorical_crossentropy\", optimizer=\"sgd\")\n",
    "    start_time = time.time()\n",
    "    monitor = EarlyStopping(monitor='val_loss', min_delta=1e-3, patience =5, verbose=2, mode='auto')\n",
    "    model.fit(x_train[0:6000], y_train[0:6000],batch_size=batch_size,epochs=3,verbose=1,validation_data=(x_test[0:600], y_test[0:600]),callbacks=[monitor,checkpointer])\n",
    "    \n",
    "    \n",
    "elapsed_time = time.time() - start_time\n",
    "print(\"Elapsed time: {}\".format(hms_string(elapsed_time)))\n",
    "\n",
    "model.load_weights('cnn/best_weights_fairclass4.hdf5')\n",
    "y_true = np.argmax(y_test[0:600],axis=1)\n",
    "pred = model.predict(x_test[0:600])\n",
    "pred = np.argmax(pred,axis=1)\n",
    "\n",
    "score = metrics.accuracy_score(y_true, pred)\n",
    "print('Accuracy: {}'.format(score))\n",
    "\n",
    "\n",
    "f1 = metrics.f1_score(y_true, pred, average='weighted')\n",
    "print('Averaged F1: {}'.format(f1))\n",
    "cm = confusion_matrix(y_true, pred)\n",
    "print(cm)\n",
    "print('Plotting confusion matrix')\n",
    "plt.figure()\n",
    "plot_confusion_matrix(cm, outcome)\n",
    "plt.show()\n",
    "plot_roc(pred,y_true)\n",
    "print(classification_report(y_true, pred))"
   ]
  },
  {
   "cell_type": "code",
   "execution_count": 126,
   "metadata": {},
   "outputs": [
    {
     "name": "stdout",
     "output_type": "stream",
     "text": [
      "Train on 6000 samples, validate on 600 samples\n",
      "Epoch 1/3\n",
      "6000/6000 [==============================] - 151s 25ms/step - loss: 0.0602 - val_loss: 0.0098\n",
      "Epoch 2/3\n",
      "6000/6000 [==============================] - 147s 25ms/step - loss: 0.0168 - val_loss: 0.0144\n",
      "Epoch 3/3\n",
      "6000/6000 [==============================] - 148s 25ms/step - loss: 0.0150 - val_loss: 0.0056\n",
      "Train on 6000 samples, validate on 600 samples\n",
      "Epoch 1/3\n",
      "6000/6000 [==============================] - 153s 25ms/step - loss: 0.0520 - val_loss: 0.0178\n",
      "Epoch 2/3\n",
      "6000/6000 [==============================] - 153s 25ms/step - loss: 0.0211 - val_loss: 0.0044\n",
      "Epoch 3/3\n",
      "6000/6000 [==============================] - 152s 25ms/step - loss: 0.0175 - val_loss: 0.0069\n",
      "Elapsed time: 0:07:38.37\n",
      "Accuracy: 0.9966666666666667\n",
      "Averaged F1: 0.9966774610252871\n",
      "[[116   0]\n",
      " [  2 482]]\n",
      "Plotting confusion matrix\n"
     ]
    },
    {
     "data": {
      "image/png": "[encoded data removed]",
      "text/plain": [
       "<Figure size 432x288 with 2 Axes>"
      ]
     },
     "metadata": {},
     "output_type": "display_data"
    },
    {
     "data": {
      "image/png": "[encoded data removed]",
      "text/plain": [
       "<Figure size 432x288 with 1 Axes>"
      ]
     },
     "metadata": {},
     "output_type": "display_data"
    },
    {
     "name": "stdout",
     "output_type": "stream",
     "text": [
      "             precision    recall  f1-score   support\n",
      "\n",
      "          0       0.98      1.00      0.99       116\n",
      "          1       1.00      1.00      1.00       484\n",
      "\n",
      "avg / total       1.00      1.00      1.00       600\n",
      "\n"
     ]
    }
   ],
   "source": [
    "batch_size = 32\n",
    "rows, cols = 1, 122\n",
    "checkpointer = ModelCheckpoint(filepath=\"cnn/best_weights_fairclass5.hdf5\", verbose=0, save_best_only=True) # save best model\n",
    "\n",
    "for i in range(2):\n",
    "    model = Sequential()\n",
    "    input_shape = (rows, cols, 1)\n",
    "    model.add(Conv2D(128, kernel_size=(1, 6), strides=(1, 1),activation='tanh',input_shape=input_shape)) \n",
    "    model.add(MaxPooling2D(pool_size=(1,2)))\n",
    "    model.add(Conv2D(256, (1, 6), activation='relu'))\n",
    "    model.add(MaxPooling2D(pool_size=(1, 2), strides=None))\n",
    "    #model.add(Dropout(0.25))\n",
    "    model.add(Flatten())\n",
    "    model.add(Dense(512, activation='sigmoid'))\n",
    "    model.add(Dropout(0.5))\n",
    "    model.add(Dense(2, activation='softmax'))\n",
    "    #model.summary()\n",
    "    model.compile(loss=\"categorical_crossentropy\", optimizer=\"adam\")\n",
    "    start_time = time.time()\n",
    "    monitor = EarlyStopping(monitor='val_loss', min_delta=1e-3, patience =5, verbose=2, mode='auto')\n",
    "    model.fit(x_train[0:6000], y_train[0:6000],batch_size=batch_size,epochs=3,verbose=1,validation_data=(x_test[0:600], y_test[0:600]),callbacks=[monitor,checkpointer])\n",
    "    \n",
    "    \n",
    "elapsed_time = time.time() - start_time\n",
    "print(\"Elapsed time: {}\".format(hms_string(elapsed_time)))\n",
    "\n",
    "model.load_weights('cnn/best_weights_fairclass5.hdf5')\n",
    "y_true = np.argmax(y_test[0:600],axis=1)\n",
    "pred = model.predict(x_test[0:600])\n",
    "pred = np.argmax(pred,axis=1)\n",
    "\n",
    "score = metrics.accuracy_score(y_true, pred)\n",
    "print('Accuracy: {}'.format(score))\n",
    "\n",
    "\n",
    "f1 = metrics.f1_score(y_true, pred, average='weighted')\n",
    "print('Averaged F1: {}'.format(f1))\n",
    "cm = confusion_matrix(y_true, pred)\n",
    "print(cm)\n",
    "print('Plotting confusion matrix')\n",
    "plt.figure()\n",
    "plot_confusion_matrix(cm, outcome)\n",
    "plt.show()\n",
    "plot_roc(pred,y_true)\n",
    "print(classification_report(y_true, pred))"
   ]
  },
  {
   "cell_type": "code",
   "execution_count": null,
   "metadata": {},
   "outputs": [],
   "source": []
  }
 ],
 "metadata": {
  "kernelspec": {
   "display_name": "Python 3",
   "language": "python",
   "name": "python3"
  },
  "language_info": {
   "codemirror_mode": {
    "name": "ipython",
    "version": 3
   },
   "file_extension": ".py",
   "mimetype": "text/x-python",
   "name": "python",
   "nbconvert_exporter": "python",
   "pygments_lexer": "ipython3",
   "version": "3.6.5"
  }
 },
 "nbformat": 4,
 "nbformat_minor": 2
}
